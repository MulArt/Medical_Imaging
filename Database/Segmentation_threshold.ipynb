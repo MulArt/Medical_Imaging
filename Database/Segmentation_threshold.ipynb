{
 "cells": [
  {
   "cell_type": "code",
   "execution_count": 14,
   "metadata": {},
   "outputs": [],
   "source": [
    "import os\n",
    "import cv2\n",
    "def threshold_segmentation(image, file):\n",
    "  import matplotlib\n",
    "  import matplotlib.pyplot as plt\n",
    "  import numpy as np\n",
    "  from skimage import data\n",
    "  from skimage.filters import threshold_multiotsu\n",
    "  thresholds = threshold_multiotsu(image)\n",
    "  # Using the threshold values, we generate the three regions.\n",
    "  regions = np.digitize(image, bins=thresholds)\n",
    "  plt.imsave(\"Image_segmente/\"+file+\"_Seg.jpg\", regions,cmap='jet')\n",
    "  return regions\n",
    "#file+\"_Seg\"\n",
    "for filename in os.listdir(\"yes\"):\n",
    "  #print(filename)\n",
    "  #print(type(filename))\n",
    "  img = cv2.imread(\"yes/\"+filename, 0)\n",
    "  threshold_segmentation(img, filename)"
   ]
  },
  {
   "cell_type": "code",
   "execution_count": 4,
   "metadata": {},
   "outputs": [
    {
     "data": {
      "text/plain": [
       "array([[0, 0, 0, ..., 0, 0, 0],\n",
       "       [0, 0, 0, ..., 0, 0, 0],\n",
       "       [0, 0, 0, ..., 0, 0, 0],\n",
       "       ...,\n",
       "       [0, 0, 0, ..., 0, 0, 0],\n",
       "       [0, 0, 0, ..., 0, 0, 0],\n",
       "       [0, 0, 0, ..., 0, 0, 0]], dtype=int64)"
      ]
     },
     "execution_count": 4,
     "metadata": {},
     "output_type": "execute_result"
    }
   ],
   "source": [
    "#Test_Brouillon\n",
    "import os\n",
    "import cv2\n",
    "def threshold_segmentation(image):\n",
    "  import matplotlib\n",
    "  import matplotlib.pyplot as plt\n",
    "  import numpy as np\n",
    "  from skimage import data\n",
    "  from skimage.filters import threshold_multiotsu\n",
    "  thresholds = threshold_multiotsu(image)\n",
    "  # Using the threshold values, we generate the three regions.\n",
    "  regions = np.digitize(image, bins=thresholds)\n",
    "  plt.imsave(\"test/_Seg.jpg\", regions,cmap='jet')\n",
    "  return regions\n",
    "#file+\"_Seg\"\n",
    "img = cv2.imread(\"img1.jpg\", 0)\n",
    "threshold_segmentation(img)"
   ]
  }
 ],
 "metadata": {
  "kernelspec": {
   "display_name": "Python 3.9.7 ('base')",
   "language": "python",
   "name": "python3"
  },
  "language_info": {
   "codemirror_mode": {
    "name": "ipython",
    "version": 3
   },
   "file_extension": ".py",
   "mimetype": "text/x-python",
   "name": "python",
   "nbconvert_exporter": "python",
   "pygments_lexer": "ipython3",
   "version": "3.9.7"
  },
  "orig_nbformat": 4,
  "vscode": {
   "interpreter": {
    "hash": "e38bdacfe1d6e2b7e20a64d2eef782d7715e4314dc541be72f500d3c69b94a4f"
   }
  }
 },
 "nbformat": 4,
 "nbformat_minor": 2
}

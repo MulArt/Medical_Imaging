{
 "cells": [
  {
   "cell_type": "code",
   "execution_count": 1,
   "metadata": {},
   "outputs": [],
   "source": [
    "import os \n",
    "import glob\n",
    "import cv2\n",
    "import numpy as np\n",
    "import pandas as pd\n",
    "from PIL import Image\n",
    "from pathlib import Path\n",
    "from keras.models import Sequential, Model,load_model\n",
    "from keras.applications.vgg16 import VGG16,preprocess_input\n",
    "from keras.layers import Conv2D, MaxPooling2D, Dense, Dropout, Input, Flatten, Activation\n",
    "from keras.optimizers import Adam, SGD, RMSprop\n",
    "from keras.callbacks import Callback, EarlyStopping\n",
    "from keras.utils import to_categorical\n",
    "from sklearn.metrics import confusion_matrix\n",
    "from keras import backend as K\n",
    "import tensorflow as tf \n",
    "import matplotlib.pyplot as plt \n",
    "\n",
    "%matplotlib inline "
   ]
  },
  {
   "cell_type": "markdown",
   "metadata": {},
   "source": [
    "CHARGEMENT DES DONNEES (IMAGES) :"
   ]
  },
  {
   "cell_type": "code",
   "execution_count": 2,
   "metadata": {},
   "outputs": [
    {
     "name": "stdout",
     "output_type": "stream",
     "text": [
      "['DCM', 'test', 'train', 'valid']\n"
     ]
    }
   ],
   "source": [
    "print(os.listdir(\"Data\"))"
   ]
  },
  {
   "cell_type": "code",
   "execution_count": 3,
   "metadata": {},
   "outputs": [],
   "source": [
    "data_dir = Path(\"Data\")\n",
    "train_dir = data_dir/'train'\n",
    "valid_dir = data_dir/'valid'\n",
    "test_dir = data_dir/'test'"
   ]
  },
  {
   "cell_type": "code",
   "execution_count": 4,
   "metadata": {},
   "outputs": [],
   "source": [
    "def load_train():\n",
    "    normal_cases_dir = train_dir/'normal'\n",
    "    adenocarcinoma_cases_dir = train_dir/'adenocarcinoma'\n",
    "\n",
    "    #Listes des images\n",
    "\n",
    "    normal_cases = normal_cases_dir.glob('*.png')\n",
    "    adenocarcinoma_cases = adenocarcinoma_cases_dir.glob('*png')\n",
    "    train_data = []\n",
    "    train_label = []\n",
    "\n",
    "    for img in normal_cases:\n",
    "        train_data.append(img)\n",
    "        train_label.append('normal')\n",
    "\n",
    "    for img in adenocarcinoma_cases:\n",
    "        train_data.append(img)\n",
    "        train_label.append('adenocarcinoma')\n",
    "    \n",
    "    df = pd.DataFrame(train_data)\n",
    "    df.columns=['images']\n",
    "    df['labels']=train_label\n",
    "    df = df.sample(frac=1).reset_index(drop=True)\n",
    "    return df"
   ]
  },
  {
   "cell_type": "code",
   "execution_count": 5,
   "metadata": {},
   "outputs": [
    {
     "data": {
      "text/plain": [
       "(331, 2)"
      ]
     },
     "execution_count": 5,
     "metadata": {},
     "output_type": "execute_result"
    }
   ],
   "source": [
    "train_data=load_train()\n",
    "train_data.shape"
   ]
  },
  {
   "cell_type": "code",
   "execution_count": 6,
   "metadata": {},
   "outputs": [
    {
     "data": {
      "image/png": "[encoded data removed]",
      "text/plain": [
       "<Figure size 432x288 with 1 Axes>"
      ]
     },
     "metadata": {
      "needs_background": "light"
     },
     "output_type": "display_data"
    }
   ],
   "source": [
    "plt.bar(train_data['labels'].value_counts().index, train_data['labels'].value_counts().values)\n",
    "plt.show()"
   ]
  },
  {
   "cell_type": "code",
   "execution_count": 7,
   "metadata": {},
   "outputs": [],
   "source": [
    "def plot(image_batch, label_batch):\n",
    "    plt.figure(figsize=(10,5))\n",
    "    for i in range(10):\n",
    "        ax = plt.subplot(2,5,i+1)\n",
    "        img = cv2.imread(str(image_batch[i]))\n",
    "        img = cv2.resize(img, (224,224))\n",
    "        plt.imshow(img)\n",
    "        plt.title(label_batch[i])\n",
    "        plt.axis(\"off\")"
   ]
  },
  {
   "cell_type": "code",
   "execution_count": 20,
   "metadata": {},
   "outputs": [
    {
     "ename": "NameError",
     "evalue": "name 'plot1' is not defined",
     "output_type": "error",
     "traceback": [
      "\u001b[1;31m---------------------------------------------------------------------------\u001b[0m",
      "\u001b[1;31mNameError\u001b[0m                                 Traceback (most recent call last)",
      "\u001b[1;32mc:\\Users\\thiba\\OneDrive - Fondation EPF\\Personal computer\\Desktop\\EPF\\Majeure santé\\semestre 7\\Projet_IMIA\\Medical_Imaging\\classification.ipynb Cellule 9\u001b[0m in \u001b[0;36m<cell line: 1>\u001b[1;34m()\u001b[0m\n\u001b[1;32m----> <a href='vscode-notebook-cell:/c%3A/Users/thiba/OneDrive%20-%20Fondation%20EPF/Personal%20computer/Desktop/EPF/Majeure%20sant%C3%A9/semestre%207/Projet_IMIA/Medical_Imaging/classification.ipynb#X11sZmlsZQ%3D%3D?line=0'>1</a>\u001b[0m plot1(image_batch, label_batch)\n",
      "\u001b[1;31mNameError\u001b[0m: name 'plot1' is not defined"
     ]
    }
   ],
   "source": [
    "plot(image_batch, label_batch)"
   ]
  },
  {
   "cell_type": "markdown",
   "metadata": {},
   "source": [
    "PRE-PROCESS DES DONNEES :"
   ]
  },
  {
   "cell_type": "code",
   "execution_count": 9,
   "metadata": {},
   "outputs": [],
   "source": [
    "def prepare_and_load(isval=True):\n",
    "    if isval==True:\n",
    "        normal_dir = valid_dir/'normal'\n",
    "        adenocarcinoma_dir = valid_dir/'adenocarcinoma' \n",
    "    else:\n",
    "        normal_dir = test_dir/'normal'\n",
    "        adenocarcinoma_dir = test_dir/'adenocarcinoma'\n",
    "    normal_cases = normal_dir.glob('*.png')\n",
    "    adenocarcinoma_cases = adenocarcinoma_dir.glob('*.png')\n",
    "    data, labels = ([] for x in range(2))\n",
    "    def prepare(case):\n",
    "        for img in case:\n",
    "            img = cv2.imread(str(img))\n",
    "            img = cv2.resize(img, (224, 224))\n",
    "\n",
    "            if img.shape[2] == 1:\n",
    "                img = np.dstack([img, img, img])\n",
    "            img = cv2.cvtColor(img, cv2.COLOR_BGR2RGB)\n",
    "            img = img.astype(np.float32)/255.\n",
    "\n",
    "            if case == normal_cases:\n",
    "                label = to_categorical(0, num_classes=2)\n",
    "            else:\n",
    "                label = to_categorical(1, num_classes=2)\n",
    "            \n",
    "            data.append(img)\n",
    "            labels.append(label)\n",
    "        return data, labels\n",
    "\n",
    "    prepare(normal_cases)\n",
    "\n",
    "    d,l = prepare(adenocarcinoma_cases)\n",
    "    d = np.array(d)\n",
    "    l = np.array(l)\n",
    "\n",
    "    return d,l        "
   ]
  },
  {
   "cell_type": "code",
   "execution_count": 10,
   "metadata": {},
   "outputs": [
    {
     "name": "stdout",
     "output_type": "stream",
     "text": [
      "Nombre images test :  174\n",
      "Number images de validation :  36\n"
     ]
    }
   ],
   "source": [
    "val_data, val_labels = prepare_and_load(isval=True)\n",
    "test_data, test_labels = prepare_and_load(isval=False)\n",
    "\n",
    "print('Nombre images test : ', len(test_data))\n",
    "print('Number images de validation : ', len(val_data))"
   ]
  },
  {
   "cell_type": "code",
   "execution_count": 11,
   "metadata": {},
   "outputs": [],
   "source": [
    "def data_gen(data, batch_size): \n",
    "    # nombre total d'échantillons dans les données\n",
    "    n = len(data)\n",
    "    steps = n/batch_size\n",
    "\n",
    "    # création de 2 tableaux pour les groupes de données et labels\n",
    "    batch_data = np.zeros((batch_size, 224, 224, 3), dtype = np.float32)\n",
    "    batch_labels = np.zeros((batch_size, 2), dtype = np.float32)\n",
    "\n",
    "    # un autre tableau pour les indices de données en entrée\n",
    "    indices = np.arange(n)\n",
    "\n",
    "    # Initialisation d'un compteur \n",
    "    i = 0\n",
    "    while True: \n",
    "        np.random.shuffle(indices)\n",
    "        # lot suivant\n",
    "        count = 0\n",
    "        next_batch = indices[(i*batch_size):(i+1)*batch_size]\n",
    "        for j, idx in enumerate(next_batch):\n",
    "            img_name = data.iloc[idx]['images']\n",
    "            label = data.iloc[idx]['labels']\n",
    "            if label=='normal':\n",
    "                label = 0\n",
    "            else :\n",
    "                label = 1\n",
    "            \n",
    "            encoded_label = to_categorical(label, num_classes=2)\n",
    "\n",
    "            img = cv2.imread(str(img_name))\n",
    "            img = cv2.resize(img, (224,224))\n",
    "\n",
    "            if img.shape[2]==1:\n",
    "                img = np.dstack([img, img, img])\n",
    "            \n",
    "            orig_img = cv2.cvtColor(img, cv2.COLOR_BGR2RGB)\n",
    "            orig_img = img.astype(np.float32)/255\n",
    "\n",
    "            batch_data[count] = orig_img\n",
    "            batch_labels[count] = encoded_label\n",
    "\n",
    "            count+= 1\n",
    "\n",
    "            if count == batch_size-1:\n",
    "                break\n",
    "\n",
    "        i+= 1\n",
    "        yield batch_data, batch_labels\n",
    "\n",
    "        if i>=steps:\n",
    "            i=0 \n"
   ]
  },
  {
   "cell_type": "markdown",
   "metadata": {},
   "source": [
    "MODELE DE CLASSIFICATION CNN :"
   ]
  },
  {
   "cell_type": "code",
   "execution_count": 12,
   "metadata": {},
   "outputs": [
    {
     "name": "stdout",
     "output_type": "stream",
     "text": [
      "Nombre d'entrainements et d'étapes de validations : 20 et 36\n"
     ]
    }
   ],
   "source": [
    "model = Sequential()\n",
    "\n",
    "model.add(Conv2D(32, (3,3), input_shape = (224, 224, 3)))\n",
    "model.add(Activation('relu'))\n",
    "model.add(MaxPooling2D(pool_size = (2,2)))\n",
    "\n",
    "model.add(Conv2D(32, (3,3)))\n",
    "model.add(Activation('relu'))\n",
    "model.add(MaxPooling2D(pool_size = (2,2)))\n",
    "\n",
    "model.add(Conv2D(64, (3,3)))\n",
    "model.add(Activation('relu'))\n",
    "model.add(MaxPooling2D(pool_size = (2,2)))\n",
    "\n",
    "model.add(Flatten()) #converti les maps en vecteurs 1D\n",
    "\n",
    "model.add(Dense(64))\n",
    "model.add(Activation('relu'))\n",
    "model.add(Dense(2))\n",
    "model.add(Activation('softmax'))\n",
    "\n",
    "\n",
    "batch_size = 16\n",
    "nb_epochs = 3\n",
    "\n",
    "# obtenir un générateur de données d'entrainement\n",
    "train_data_gen = data_gen(data=train_data, batch_size=batch_size)\n",
    "\n",
    "# défini le nombre d'étapes d'entrainement\n",
    "nb_train_steps = train_data.shape[0]//batch_size\n",
    "\n",
    "print(\"Nombre d'entrainements et d'étapes de validations : {} et {}\".format(nb_train_steps, len(val_data)))\n"
   ]
  },
  {
   "cell_type": "code",
   "execution_count": 13,
   "metadata": {},
   "outputs": [
    {
     "name": "stderr",
     "output_type": "stream",
     "text": [
      "C:\\Users\\thiba\\AppData\\Local\\Temp\\ipykernel_24100\\1711196156.py:6: UserWarning: `Model.fit_generator` is deprecated and will be removed in a future version. Please use `Model.fit`, which supports generators.\n",
      "  history = model.fit_generator(train_data_gen, epochs=nb_epochs, steps_per_epoch=nb_train_steps,\n"
     ]
    },
    {
     "name": "stdout",
     "output_type": "stream",
     "text": [
      "Epoch 1/3\n",
      "20/20 [==============================] - 14s 642ms/step - loss: 0.7693 - accuracy: 0.6875 - val_loss: 0.3494 - val_accuracy: 0.9167\n",
      "Epoch 2/3\n",
      "20/20 [==============================] - 11s 546ms/step - loss: 0.2984 - accuracy: 0.8687 - val_loss: 0.1599 - val_accuracy: 0.9722\n",
      "Epoch 3/3\n",
      "20/20 [==============================] - 10s 496ms/step - loss: 0.1007 - accuracy: 0.9187 - val_loss: 0.1871 - val_accuracy: 0.9722\n"
     ]
    }
   ],
   "source": [
    "model.compile(loss = 'binary_crossentropy',\n",
    "                optimizer = 'rmsprop',\n",
    "                metrics =['accuracy'])\n",
    "\n",
    "# fit le modèle\n",
    "history = model.fit_generator(train_data_gen, epochs=nb_epochs, steps_per_epoch=nb_train_steps,\n",
    "                                validation_data=(val_data,val_labels))"
   ]
  },
  {
   "cell_type": "markdown",
   "metadata": {},
   "source": [
    "TRANSFERT D'APPRENTISSAGE :"
   ]
  },
  {
   "cell_type": "code",
   "execution_count": 14,
   "metadata": {},
   "outputs": [],
   "source": [
    "def vgg16_model(num_classes=None): \n",
    "\n",
    "    model = VGG16(weights='imagenet', include_top=True, input_shape=(224, 224, 3))\n",
    "\n",
    "    x = Dense(1024, activation='relu')(model.layers[-4].output)\n",
    "    x = Dropout(0.7)(x)\n",
    "    x = Dense(512, activation='relu')(x)\n",
    "    x = Dropout(0.5)(x)\n",
    "    x = Dense(2, activation='softmax')(x)\n",
    "\n",
    "    model = Model(model.input,x)\n",
    "\n",
    "    return model"
   ]
  },
  {
   "cell_type": "code",
   "execution_count": 15,
   "metadata": {},
   "outputs": [],
   "source": [
    "vgg_conv = vgg16_model(2)\n",
    "\n",
    "for layer in vgg_conv.layers[:-10]: # freeze tous les layers sauf les 10 derniers\n",
    "    layer.trainable = False"
   ]
  },
  {
   "cell_type": "code",
   "execution_count": 16,
   "metadata": {},
   "outputs": [
    {
     "name": "stderr",
     "output_type": "stream",
     "text": [
      "c:\\Users\\thiba\\anaconda3\\lib\\site-packages\\keras\\optimizers\\optimizer_v2\\adam.py:114: UserWarning: The `lr` argument is deprecated, use `learning_rate` instead.\n",
      "  super().__init__(name, **kwargs)\n",
      "C:\\Users\\thiba\\AppData\\Local\\Temp\\ipykernel_24100\\3137498313.py:5: UserWarning: `Model.fit_generator` is deprecated and will be removed in a future version. Please use `Model.fit`, which supports generators.\n",
      "  history = vgg_conv.fit_generator(train_data_gen, epochs=nb_epochs, steps_per_epoch=nb_train_steps,\n"
     ]
    },
    {
     "name": "stdout",
     "output_type": "stream",
     "text": [
      "Epoch 1/3\n",
      "20/20 [==============================] - 65s 3s/step - loss: 0.4105 - accuracy: 0.6031 - val_loss: 0.2404 - val_accuracy: 0.9167\n",
      "Epoch 2/3\n",
      "20/20 [==============================] - 57s 3s/step - loss: 0.1220 - accuracy: 0.8781 - val_loss: 0.0593 - val_accuracy: 0.9722\n",
      "Epoch 3/3\n",
      "20/20 [==============================] - 60s 3s/step - loss: 0.1072 - accuracy: 0.9250 - val_loss: 0.0555 - val_accuracy: 1.0000\n"
     ]
    }
   ],
   "source": [
    "opt = Adam(lr=0.0001, decay=1e-5)\n",
    "vgg_conv.compile(loss='binary_crossentropy', metrics=['accuracy'], optimizer=opt)\n",
    "\n",
    "# on fit le modèle\n",
    "history = vgg_conv.fit_generator(train_data_gen, epochs=nb_epochs, steps_per_epoch=nb_train_steps,\n",
    "                                    validation_data=(val_data,val_labels),\n",
    "                                    class_weight={0:1.0, 1:0.4})"
   ]
  },
  {
   "cell_type": "code",
   "execution_count": 17,
   "metadata": {},
   "outputs": [
    {
     "name": "stdout",
     "output_type": "stream",
     "text": [
      "11/11 [==============================] - 22s 2s/step - loss: 0.0364 - accuracy: 0.9943\n",
      "Perte et Précision :  0.03635106235742569 & 0.9942528605461121\n"
     ]
    }
   ],
   "source": [
    "loss , acc = vgg_conv.evaluate(test_data, test_labels, batch_size = 16)\n",
    "print('Perte et Précision : ',loss,'&',acc)"
   ]
  },
  {
   "cell_type": "markdown",
   "metadata": {},
   "source": [
    "EVALUATION DES PERFORMANCES DU MODELE :"
   ]
  },
  {
   "cell_type": "code",
   "execution_count": 18,
   "metadata": {},
   "outputs": [
    {
     "name": "stdout",
     "output_type": "stream",
     "text": [
      "11/11 [==============================] - 21s 2s/step\n",
      "              precision    recall  f1-score   support\n",
      "\n",
      "           0       1.00      0.98      0.99        54\n",
      "           1       0.99      1.00      1.00       120\n",
      "\n",
      "    accuracy                           0.99       174\n",
      "   macro avg       1.00      0.99      0.99       174\n",
      "weighted avg       0.99      0.99      0.99       174\n",
      "\n"
     ]
    }
   ],
   "source": [
    "# predictions \n",
    "pred = vgg_conv.predict(test_data, batch_size=16)\n",
    "pred = np.argmax(pred, axis=-1)\n",
    "\n",
    "#label original\n",
    "labels = np.argmax(test_labels, axis=-1)\n",
    "\n",
    "from sklearn.metrics import classification_report\n",
    "\n",
    "print(classification_report(labels, pred))"
   ]
  },
  {
   "cell_type": "code",
   "execution_count": 19,
   "metadata": {},
   "outputs": [
    {
     "data": {
      "text/plain": [
       "<AxesSubplot:>"
      ]
     },
     "execution_count": 19,
     "metadata": {},
     "output_type": "execute_result"
    },
    {
     "data": {
      "image/png": "[encoded data removed]",
      "text/plain": [
       "<Figure size 432x288 with 2 Axes>"
      ]
     },
     "metadata": {
      "needs_background": "light"
     },
     "output_type": "display_data"
    }
   ],
   "source": [
    "# matrice de confusion\n",
    "cm = confusion_matrix(labels, pred)\n",
    "\n",
    "import seaborn as sns\n",
    "\n",
    "sns.heatmap(cm, annot=True, fmt='g', xticklabels=['Normal', 'Adenocarcinoma'], yticklabels=['Normal', 'Adenocarcinoma'])"
   ]
  }
 ],
 "metadata": {
  "kernelspec": {
   "display_name": "Python 3.9.12 ('base')",
   "language": "python",
   "name": "python3"
  },
  "language_info": {
   "codemirror_mode": {
    "name": "ipython",
    "version": 3
   },
   "file_extension": ".py",
   "mimetype": "text/x-python",
   "name": "python",
   "nbconvert_exporter": "python",
   "pygments_lexer": "ipython3",
   "version": "3.9.12"
  },
  "orig_nbformat": 4,
  "vscode": {
   "interpreter": {
    "hash": "3a879106b2b18878579d9347381e22ada575de5d14ca86f191130cfab0f92ae8"
   }
  }
 },
 "nbformat": 4,
 "nbformat_minor": 2
}

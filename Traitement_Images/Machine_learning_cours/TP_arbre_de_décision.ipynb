{
 "cells": [
  {
   "cell_type": "markdown",
   "metadata": {
    "deletable": false,
    "editable": false
   },
   "source": [
    "<div class=\"alert alert-block alert-info \" style=' color:MidnightBlue; background-color: AliceBlue ;  border-radius: 30px; border-color: black; '>\n",
    "<hr><h1 > TP Arbre de décicion - MIS 5A -  <img  src=\"   data:image/png;base64,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\" align=\"right\"  width=\"100\" > \n",
    " <br>\n",
    "     <br>\n",
    "     <br>\n",
    " <hr>\n",
    "</div>\n",
    "<div class=\"alert alert-block alert-info\" style='color:midnightblue; background-color: AliceBlue ; border-radius: 30px; border-color: black; '> \n",
    " <br>\n",
    "    <ol>Le but de ce TP est d’implémenter les arbres de décision pour résoudre des problèmes de classification et de régression.<br>\n",
    "    </ol>\n",
    "     <br>\n",
    "    </div>"
   ]
  },
  {
   "cell_type": "markdown",
   "metadata": {
    "id": "EcrpId6VqBBU"
   },
   "source": [
    "*Entrez votre Nom, Prénom et Majeure ici*"
   ]
  },
  {
   "cell_type": "markdown",
   "metadata": {
    "deletable": false,
    "editable": false
   },
   "source": [
    "<div class=\"alert alert-block alert-info\" style='color:midnightblue; background-color: AliceBlue ; border-radius: 30px; border-color: black; '> \n",
    "    <hr><h2>1.\tPartie classification </h2><hr>    \n",
    "    <ol>\n",
    "Pour la partie classification, on vous demande d’utiliser la base de données breast_cancer. Cette base de données comprend pour chaque patiente 30 données d’entrées càd 30 observations issues de l’examen d’imagerie médicale de cette patiente. Le but de la classification est de diagnostiquer une tumeur maligne ou bénigne, les données de sortie sont donc classifiées en deux classes : maligne ou bénigne. \n",
    "Le but de cette partie est de construire un modèle pour faire cette classification du cancer du sein.\n",
    " <br>\n",
    "    </ol>\n",
    "</div>"
   ]
  },
  {
   "cell_type": "markdown",
   "metadata": {
    "deletable": false,
    "editable": false
   },
   "source": [
    "<div class=\"alert alert-block alert-info\" style='color:MidnightBlue; background-color: AliceBlue ; border-radius: 30px; border-color: black; '>\n",
    "1.1\tL'ensemble de données est disponible dans la bibliothèque scikit-learn. Commencez par importer la fonction load_breast_cancer du module sklearn.datasets, puis chargez la base de données via cette instruction load_breast_cancer().\n",
    "    </div>"
   ]
  },
  {
   "cell_type": "code",
   "execution_count": 121,
   "metadata": {},
   "outputs": [],
   "source": [
    "from sklearn.datasets import load_breast_cancer\n",
    "Dataset = load_breast_cancer()"
   ]
  },
  {
   "cell_type": "markdown",
   "metadata": {
    "deletable": false,
    "editable": false
   },
   "source": [
    "<div class=\"alert alert-block alert-info\" style='color:MidnightBlue; background-color: AliceBlue ; border-radius: 30px; border-color: black; '>\n",
    "    1.2\tSoit X les observations et Y les sorties correspondantes. Sachant qu’on accède aux observations via l’attribut data et aux sorties via l’attribut target appliqués tous les deux à la base de données (nom_bd.data et nom_bd.target), afficher la taille des données X et Y.\n",
    "    </div>"
   ]
  },
  {
   "cell_type": "code",
   "execution_count": 122,
   "metadata": {},
   "outputs": [
    {
     "name": "stdout",
     "output_type": "stream",
     "text": [
      "(569, 30)\n",
      "(569,)\n"
     ]
    }
   ],
   "source": [
    "import numpy as np\n",
    "X = Dataset.data\n",
    "y = Dataset.target\n",
    "print (np.shape(X))\n",
    "print (np.shape(y))\n"
   ]
  },
  {
   "cell_type": "markdown",
   "metadata": {
    "deletable": false,
    "editable": false
   },
   "source": [
    "\n",
    "<div class=\"alert alert-block alert-info\" style='color:MidnightBlue; background-color: AliceBlue ; border-radius: 30px; border-color: black; '>\n",
    "    1.3\tUtilisez l’instruction feature_names appliquée au nom de votre base de données (nom_bd. feature_names) pour afficher le nom des différentes observations.\n",
    "    </div>"
   ]
  },
  {
   "cell_type": "code",
   "execution_count": 123,
   "metadata": {},
   "outputs": [
    {
     "name": "stdout",
     "output_type": "stream",
     "text": [
      "['mean radius' 'mean texture' 'mean perimeter' 'mean area'\n",
      " 'mean smoothness' 'mean compactness' 'mean concavity'\n",
      " 'mean concave points' 'mean symmetry' 'mean fractal dimension'\n",
      " 'radius error' 'texture error' 'perimeter error' 'area error'\n",
      " 'smoothness error' 'compactness error' 'concavity error'\n",
      " 'concave points error' 'symmetry error' 'fractal dimension error'\n",
      " 'worst radius' 'worst texture' 'worst perimeter' 'worst area'\n",
      " 'worst smoothness' 'worst compactness' 'worst concavity'\n",
      " 'worst concave points' 'worst symmetry' 'worst fractal dimension']\n"
     ]
    }
   ],
   "source": [
    "#Insérez votre code ici\n",
    "Nom = Dataset.feature_names\n",
    "print (Nom)"
   ]
  },
  {
   "cell_type": "markdown",
   "metadata": {
    "deletable": false,
    "editable": false
   },
   "source": [
    "\n",
    "<div class=\"alert alert-block alert-info\" style='color:MidnightBlue; background-color: AliceBlue ; border-radius: 30px; border-color: black; '>\n",
    "    1.4\tFaire de même pour afficher les noms des sorties (des étiquettes) en utilisant l’instruction target_names.\n",
    "    </div>"
   ]
  },
  {
   "cell_type": "code",
   "execution_count": 124,
   "metadata": {},
   "outputs": [
    {
     "name": "stdout",
     "output_type": "stream",
     "text": [
      "['malignant' 'benign']\n"
     ]
    }
   ],
   "source": [
    "#Insérez votre code ici\n",
    "Target = Dataset.target_names\n",
    "print(Target)"
   ]
  },
  {
   "cell_type": "markdown",
   "metadata": {
    "deletable": false,
    "editable": false
   },
   "source": [
    "\n",
    "<div class=\"alert alert-block alert-info\" style='color:MidnightBlue; background-color: AliceBlue ; border-radius: 30px; border-color: black; '>\n",
    "    1.5\tUtilisez l’instruction train_test_split pour diviser la base de données X et Y en base d’apprentissage X_train et Y_train et en base de test X_test et Y_test avec un ratio de taille\n",
    "de test =0.3 et le paramètre shuffle à False et random_state=42.\n",
    "    </div>"
   ]
  },
  {
   "cell_type": "code",
   "execution_count": 125,
   "metadata": {},
   "outputs": [],
   "source": [
    "#Insérez votre code ici\n",
    "from sklearn.model_selection import train_test_split\n",
    "X_train,X_test,y_train,y_test = train_test_split (X,y,test_size = 0.3, shuffle = False, random_state = 42)"
   ]
  },
  {
   "cell_type": "markdown",
   "metadata": {
    "deletable": false,
    "editable": false
   },
   "source": [
    "<div class=\"alert alert-block alert-info\" style='color:MidnightBlue; background-color: AliceBlue ; border-radius: 30px; border-color: black; '>\n",
    "    1.6\tFaites en sorte que les exemples soient aléatoirement répartis dans la base d’apprentissage en utilisant np.random.permutation.\n",
    "    </div>"
   ]
  },
  {
   "cell_type": "code",
   "execution_count": 126,
   "metadata": {},
   "outputs": [],
   "source": [
    "#Insérez votre code ici\n",
    "shuffle_index = np.random.permutation(len(X_train))\n",
    "X_train, y_train =X_train[shuffle_index],y_train[shuffle_index]"
   ]
  },
  {
   "cell_type": "markdown",
   "metadata": {
    "deletable": false,
    "editable": false
   },
   "source": [
    "\n",
    "<div class=\"alert alert-block alert-info\" style='color:MidnightBlue; background-color: AliceBlue ; border-radius: 30px; border-color: black; '>\n",
    "    1.7\tConstruisez un arbre de décision que vous appellerez tree1 et entrainez-le sur les données de la base d’entrainement en prenant comme seul paramètre criterion=\"entropy\".  \n",
    "    </div>"
   ]
  },
  {
   "cell_type": "code",
   "execution_count": 127,
   "metadata": {},
   "outputs": [
    {
     "data": {
      "text/plain": [
       "DecisionTreeClassifier(criterion='entropy')"
      ]
     },
     "execution_count": 127,
     "metadata": {},
     "output_type": "execute_result"
    }
   ],
   "source": [
    "#Insérez votre code ici\n",
    "from sklearn.tree import DecisionTreeClassifier\n",
    "tree1 = DecisionTreeClassifier(criterion=\"entropy\")\n",
    "tree1.fit(X_train,y_train)"
   ]
  },
  {
   "cell_type": "markdown",
   "metadata": {
    "deletable": false,
    "editable": false
   },
   "source": [
    "\n",
    "<div class=\"alert alert-block alert-info\" style='color:MidnightBlue; background-color: AliceBlue ; border-radius: 30px; border-color: black; '>\n",
    "    1.8\tVisualisez l’arbre obtenu en utilisant graphviz et en produisant un fichier .dot que vous afficherez. Expliquez comment se fait la prédiction à partir de cet arbre.\n",
    "    </div>"
   ]
  },
  {
   "cell_type": "code",
   "execution_count": 128,
   "metadata": {},
   "outputs": [
    {
     "data": {
      "image/svg+xml": "<?xml version=\"1.0\" encoding=\"UTF-8\" standalone=\"no\"?>\r\n<!DOCTYPE svg PUBLIC \"-//W3C//DTD SVG 1.1//EN\"\r\n \"http://www.w3.org/Graphics/SVG/1.1/DTD/svg11.dtd\">\r\n<!-- Generated by graphviz version 2.38.0 (20140413.2041)\r\n -->\r\n<!-- Title: Tree Pages: 1 -->\r\n<svg width=\"1247pt\" height=\"790pt\"\r\n viewBox=\"0.00 0.00 1247.00 790.00\" xmlns=\"http://www.w3.org/2000/svg\" xmlns:xlink=\"http://www.w3.org/1999/xlink\">\r\n<g id=\"graph0\" class=\"graph\" transform=\"scale(1 1) rotate(0) translate(4 786)\">\r\n<title>Tree</title>\r\n<polygon fill=\"white\" stroke=\"none\" points=\"-4,4 -4,-786 1243,-786 1243,4 -4,4\"/>\r\n<!-- 0 -->\r\n<g id=\"node1\" class=\"node\"><title>0</title>\r\n<path fill=\"#d1e8f9\" stroke=\"black\" d=\"M927.5,-782C927.5,-782 767.5,-782 767.5,-782 761.5,-782 755.5,-776 755.5,-770 755.5,-770 755.5,-711 755.5,-711 755.5,-705 761.5,-699 767.5,-699 767.5,-699 927.5,-699 927.5,-699 933.5,-699 939.5,-705 939.5,-711 939.5,-711 939.5,-770 939.5,-770 939.5,-776 933.5,-782 927.5,-782\"/>\r\n<text text-anchor=\"middle\" x=\"847.5\" y=\"-766.8\" font-family=\"Helvetica,sans-Serif\" font-size=\"14.00\">worst perimeter &lt;= 105.15</text>\r\n<text text-anchor=\"middle\" x=\"847.5\" y=\"-751.8\" font-family=\"Helvetica,sans-Serif\" font-size=\"14.00\">entropy = 0.988</text>\r\n<text text-anchor=\"middle\" x=\"847.5\" y=\"-736.8\" font-family=\"Helvetica,sans-Serif\" font-size=\"14.00\">samples = 398</text>\r\n<text text-anchor=\"middle\" x=\"847.5\" y=\"-721.8\" font-family=\"Helvetica,sans-Serif\" font-size=\"14.00\">value = [173, 225]</text>\r\n<text text-anchor=\"middle\" x=\"847.5\" y=\"-706.8\" font-family=\"Helvetica,sans-Serif\" font-size=\"14.00\">class = benign</text>\r\n</g>\r\n<!-- 1 -->\r\n<g id=\"node2\" class=\"node\"><title>1</title>\r\n<path fill=\"#46a4e7\" stroke=\"black\" d=\"M789.5,-663C789.5,-663 603.5,-663 603.5,-663 597.5,-663 591.5,-657 591.5,-651 591.5,-651 591.5,-592 591.5,-592 591.5,-586 597.5,-580 603.5,-580 603.5,-580 789.5,-580 789.5,-580 795.5,-580 801.5,-586 801.5,-592 801.5,-592 801.5,-651 801.5,-651 801.5,-657 795.5,-663 789.5,-663\"/>\r\n<text text-anchor=\"middle\" x=\"696.5\" y=\"-647.8\" font-family=\"Helvetica,sans-Serif\" font-size=\"14.00\">worst concave points &lt;= 0.134</text>\r\n<text text-anchor=\"middle\" x=\"696.5\" y=\"-632.8\" font-family=\"Helvetica,sans-Serif\" font-size=\"14.00\">entropy = 0.338</text>\r\n<text text-anchor=\"middle\" x=\"696.5\" y=\"-617.8\" font-family=\"Helvetica,sans-Serif\" font-size=\"14.00\">samples = 223</text>\r\n<text text-anchor=\"middle\" x=\"696.5\" y=\"-602.8\" font-family=\"Helvetica,sans-Serif\" font-size=\"14.00\">value = [14, 209]</text>\r\n<text text-anchor=\"middle\" x=\"696.5\" y=\"-587.8\" font-family=\"Helvetica,sans-Serif\" font-size=\"14.00\">class = benign</text>\r\n</g>\r\n<!-- 0&#45;&gt;1 -->\r\n<g id=\"edge1\" class=\"edge\"><title>0&#45;&gt;1</title>\r\n<path fill=\"none\" stroke=\"black\" d=\"M795.111,-698.907C782.813,-689.379 769.61,-679.148 756.99,-669.37\"/>\r\n<polygon fill=\"black\" stroke=\"black\" points=\"758.845,-666.379 748.796,-663.021 754.557,-671.912 758.845,-666.379\"/>\r\n<text text-anchor=\"middle\" x=\"751.943\" y=\"-684.122\" font-family=\"Helvetica,sans-Serif\" font-size=\"14.00\">True</text>\r\n</g>\r\n<!-- 18 -->\r\n<g id=\"node19\" class=\"node\"><title>18</title>\r\n<path fill=\"#e88e4d\" stroke=\"black\" d=\"M1079.5,-663C1079.5,-663 919.5,-663 919.5,-663 913.5,-663 907.5,-657 907.5,-651 907.5,-651 907.5,-592 907.5,-592 907.5,-586 913.5,-580 919.5,-580 919.5,-580 1079.5,-580 1079.5,-580 1085.5,-580 1091.5,-586 1091.5,-592 1091.5,-592 1091.5,-651 1091.5,-651 1091.5,-657 1085.5,-663 1079.5,-663\"/>\r\n<text text-anchor=\"middle\" x=\"999.5\" y=\"-647.8\" font-family=\"Helvetica,sans-Serif\" font-size=\"14.00\">worst perimeter &lt;= 120.35</text>\r\n<text text-anchor=\"middle\" x=\"999.5\" y=\"-632.8\" font-family=\"Helvetica,sans-Serif\" font-size=\"14.00\">entropy = 0.441</text>\r\n<text text-anchor=\"middle\" x=\"999.5\" y=\"-617.8\" font-family=\"Helvetica,sans-Serif\" font-size=\"14.00\">samples = 175</text>\r\n<text text-anchor=\"middle\" x=\"999.5\" y=\"-602.8\" font-family=\"Helvetica,sans-Serif\" font-size=\"14.00\">value = [159, 16]</text>\r\n<text text-anchor=\"middle\" x=\"999.5\" y=\"-587.8\" font-family=\"Helvetica,sans-Serif\" font-size=\"14.00\">class = malignant</text>\r\n</g>\r\n<!-- 0&#45;&gt;18 -->\r\n<g id=\"edge18\" class=\"edge\"><title>0&#45;&gt;18</title>\r\n<path fill=\"none\" stroke=\"black\" d=\"M900.236,-698.907C912.615,-689.379 925.906,-679.148 938.61,-669.37\"/>\r\n<polygon fill=\"black\" stroke=\"black\" points=\"941.068,-671.894 946.858,-663.021 936.798,-666.347 941.068,-671.894\"/>\r\n<text text-anchor=\"middle\" x=\"943.632\" y=\"-684.112\" font-family=\"Helvetica,sans-Serif\" font-size=\"14.00\">False</text>\r\n</g>\r\n<!-- 2 -->\r\n<g id=\"node3\" class=\"node\"><title>2</title>\r\n<path fill=\"#3d9fe6\" stroke=\"black\" d=\"M496,-544C496,-544 373,-544 373,-544 367,-544 361,-538 361,-532 361,-532 361,-473 361,-473 361,-467 367,-461 373,-461 373,-461 496,-461 496,-461 502,-461 508,-467 508,-473 508,-473 508,-532 508,-532 508,-538 502,-544 496,-544\"/>\r\n<text text-anchor=\"middle\" x=\"434.5\" y=\"-528.8\" font-family=\"Helvetica,sans-Serif\" font-size=\"14.00\">area error &lt;= 48.975</text>\r\n<text text-anchor=\"middle\" x=\"434.5\" y=\"-513.8\" font-family=\"Helvetica,sans-Serif\" font-size=\"14.00\">entropy = 0.138</text>\r\n<text text-anchor=\"middle\" x=\"434.5\" y=\"-498.8\" font-family=\"Helvetica,sans-Serif\" font-size=\"14.00\">samples = 207</text>\r\n<text text-anchor=\"middle\" x=\"434.5\" y=\"-483.8\" font-family=\"Helvetica,sans-Serif\" font-size=\"14.00\">value = [4, 203]</text>\r\n<text text-anchor=\"middle\" x=\"434.5\" y=\"-468.8\" font-family=\"Helvetica,sans-Serif\" font-size=\"14.00\">class = benign</text>\r\n</g>\r\n<!-- 1&#45;&gt;2 -->\r\n<g id=\"edge2\" class=\"edge\"><title>1&#45;&gt;2</title>\r\n<path fill=\"none\" stroke=\"black\" d=\"M605.6,-579.907C577.051,-567.158 545.69,-553.154 517.703,-540.655\"/>\r\n<polygon fill=\"black\" stroke=\"black\" points=\"518.907,-537.36 508.349,-536.479 516.053,-543.752 518.907,-537.36\"/>\r\n</g>\r\n<!-- 13 -->\r\n<g id=\"node14\" class=\"node\"><title>13</title>\r\n<path fill=\"#f5cdb0\" stroke=\"black\" d=\"M763.5,-544C763.5,-544 629.5,-544 629.5,-544 623.5,-544 617.5,-538 617.5,-532 617.5,-532 617.5,-473 617.5,-473 617.5,-467 623.5,-461 629.5,-461 629.5,-461 763.5,-461 763.5,-461 769.5,-461 775.5,-467 775.5,-473 775.5,-473 775.5,-532 775.5,-532 775.5,-538 769.5,-544 763.5,-544\"/>\r\n<text text-anchor=\"middle\" x=\"696.5\" y=\"-528.8\" font-family=\"Helvetica,sans-Serif\" font-size=\"14.00\">worst texture &lt;= 23.47</text>\r\n<text text-anchor=\"middle\" x=\"696.5\" y=\"-513.8\" font-family=\"Helvetica,sans-Serif\" font-size=\"14.00\">entropy = 0.954</text>\r\n<text text-anchor=\"middle\" x=\"696.5\" y=\"-498.8\" font-family=\"Helvetica,sans-Serif\" font-size=\"14.00\">samples = 16</text>\r\n<text text-anchor=\"middle\" x=\"696.5\" y=\"-483.8\" font-family=\"Helvetica,sans-Serif\" font-size=\"14.00\">value = [10, 6]</text>\r\n<text text-anchor=\"middle\" x=\"696.5\" y=\"-468.8\" font-family=\"Helvetica,sans-Serif\" font-size=\"14.00\">class = malignant</text>\r\n</g>\r\n<!-- 1&#45;&gt;13 -->\r\n<g id=\"edge13\" class=\"edge\"><title>1&#45;&gt;13</title>\r\n<path fill=\"none\" stroke=\"black\" d=\"M696.5,-579.907C696.5,-571.649 696.5,-562.864 696.5,-554.302\"/>\r\n<polygon fill=\"black\" stroke=\"black\" points=\"700,-554.021 696.5,-544.021 693,-554.021 700,-554.021\"/>\r\n</g>\r\n<!-- 3 -->\r\n<g id=\"node4\" class=\"node\"><title>3</title>\r\n<path fill=\"#3b9ee5\" stroke=\"black\" d=\"M303.5,-425C303.5,-425 161.5,-425 161.5,-425 155.5,-425 149.5,-419 149.5,-413 149.5,-413 149.5,-354 149.5,-354 149.5,-348 155.5,-342 161.5,-342 161.5,-342 303.5,-342 303.5,-342 309.5,-342 315.5,-348 315.5,-354 315.5,-354 315.5,-413 315.5,-413 315.5,-419 309.5,-425 303.5,-425\"/>\r\n<text text-anchor=\"middle\" x=\"232.5\" y=\"-409.8\" font-family=\"Helvetica,sans-Serif\" font-size=\"14.00\">worst texture &lt;= 30.145</text>\r\n<text text-anchor=\"middle\" x=\"232.5\" y=\"-394.8\" font-family=\"Helvetica,sans-Serif\" font-size=\"14.00\">entropy = 0.08</text>\r\n<text text-anchor=\"middle\" x=\"232.5\" y=\"-379.8\" font-family=\"Helvetica,sans-Serif\" font-size=\"14.00\">samples = 203</text>\r\n<text text-anchor=\"middle\" x=\"232.5\" y=\"-364.8\" font-family=\"Helvetica,sans-Serif\" font-size=\"14.00\">value = [2, 201]</text>\r\n<text text-anchor=\"middle\" x=\"232.5\" y=\"-349.8\" font-family=\"Helvetica,sans-Serif\" font-size=\"14.00\">class = benign</text>\r\n</g>\r\n<!-- 2&#45;&gt;3 -->\r\n<g id=\"edge3\" class=\"edge\"><title>2&#45;&gt;3</title>\r\n<path fill=\"none\" stroke=\"black\" d=\"M364.417,-460.907C347.339,-451.016 328.955,-440.368 311.494,-430.254\"/>\r\n<polygon fill=\"black\" stroke=\"black\" points=\"312.867,-427.004 302.459,-425.021 309.358,-433.062 312.867,-427.004\"/>\r\n</g>\r\n<!-- 10 -->\r\n<g id=\"node11\" class=\"node\"><title>10</title>\r\n<path fill=\"#ffffff\" stroke=\"black\" d=\"M523.5,-425C523.5,-425 345.5,-425 345.5,-425 339.5,-425 333.5,-419 333.5,-413 333.5,-413 333.5,-354 333.5,-354 333.5,-348 339.5,-342 345.5,-342 345.5,-342 523.5,-342 523.5,-342 529.5,-342 535.5,-348 535.5,-354 535.5,-354 535.5,-413 535.5,-413 535.5,-419 529.5,-425 523.5,-425\"/>\r\n<text text-anchor=\"middle\" x=\"434.5\" y=\"-409.8\" font-family=\"Helvetica,sans-Serif\" font-size=\"14.00\">mean compactness &lt;= 0.063</text>\r\n<text text-anchor=\"middle\" x=\"434.5\" y=\"-394.8\" font-family=\"Helvetica,sans-Serif\" font-size=\"14.00\">entropy = 1.0</text>\r\n<text text-anchor=\"middle\" x=\"434.5\" y=\"-379.8\" font-family=\"Helvetica,sans-Serif\" font-size=\"14.00\">samples = 4</text>\r\n<text text-anchor=\"middle\" x=\"434.5\" y=\"-364.8\" font-family=\"Helvetica,sans-Serif\" font-size=\"14.00\">value = [2, 2]</text>\r\n<text text-anchor=\"middle\" x=\"434.5\" y=\"-349.8\" font-family=\"Helvetica,sans-Serif\" font-size=\"14.00\">class = malignant</text>\r\n</g>\r\n<!-- 2&#45;&gt;10 -->\r\n<g id=\"edge10\" class=\"edge\"><title>2&#45;&gt;10</title>\r\n<path fill=\"none\" stroke=\"black\" d=\"M434.5,-460.907C434.5,-452.649 434.5,-443.864 434.5,-435.302\"/>\r\n<polygon fill=\"black\" stroke=\"black\" points=\"438,-435.021 434.5,-425.021 431,-435.021 438,-435.021\"/>\r\n</g>\r\n<!-- 4 -->\r\n<g id=\"node5\" class=\"node\"><title>4</title>\r\n<path fill=\"#399de5\" stroke=\"black\" d=\"M101,-298.5C101,-298.5 12,-298.5 12,-298.5 6,-298.5 0,-292.5 0,-286.5 0,-286.5 0,-242.5 0,-242.5 0,-236.5 6,-230.5 12,-230.5 12,-230.5 101,-230.5 101,-230.5 107,-230.5 113,-236.5 113,-242.5 113,-242.5 113,-286.5 113,-286.5 113,-292.5 107,-298.5 101,-298.5\"/>\r\n<text text-anchor=\"middle\" x=\"56.5\" y=\"-283.3\" font-family=\"Helvetica,sans-Serif\" font-size=\"14.00\">entropy = 0.0</text>\r\n<text text-anchor=\"middle\" x=\"56.5\" y=\"-268.3\" font-family=\"Helvetica,sans-Serif\" font-size=\"14.00\">samples = 188</text>\r\n<text text-anchor=\"middle\" x=\"56.5\" y=\"-253.3\" font-family=\"Helvetica,sans-Serif\" font-size=\"14.00\">value = [0, 188]</text>\r\n<text text-anchor=\"middle\" x=\"56.5\" y=\"-238.3\" font-family=\"Helvetica,sans-Serif\" font-size=\"14.00\">class = benign</text>\r\n</g>\r\n<!-- 3&#45;&gt;4 -->\r\n<g id=\"edge4\" class=\"edge\"><title>3&#45;&gt;4</title>\r\n<path fill=\"none\" stroke=\"black\" d=\"M171.438,-341.907C153.179,-329.769 133.208,-316.493 115.11,-304.462\"/>\r\n<polygon fill=\"black\" stroke=\"black\" points=\"116.658,-301.288 106.392,-298.667 112.782,-307.118 116.658,-301.288\"/>\r\n</g>\r\n<!-- 5 -->\r\n<g id=\"node6\" class=\"node\"><title>5</title>\r\n<path fill=\"#57ace9\" stroke=\"black\" d=\"M329.5,-306C329.5,-306 143.5,-306 143.5,-306 137.5,-306 131.5,-300 131.5,-294 131.5,-294 131.5,-235 131.5,-235 131.5,-229 137.5,-223 143.5,-223 143.5,-223 329.5,-223 329.5,-223 335.5,-223 341.5,-229 341.5,-235 341.5,-235 341.5,-294 341.5,-294 341.5,-300 335.5,-306 329.5,-306\"/>\r\n<text text-anchor=\"middle\" x=\"236.5\" y=\"-290.8\" font-family=\"Helvetica,sans-Serif\" font-size=\"14.00\">worst concave points &lt;= 0.088</text>\r\n<text text-anchor=\"middle\" x=\"236.5\" y=\"-275.8\" font-family=\"Helvetica,sans-Serif\" font-size=\"14.00\">entropy = 0.567</text>\r\n<text text-anchor=\"middle\" x=\"236.5\" y=\"-260.8\" font-family=\"Helvetica,sans-Serif\" font-size=\"14.00\">samples = 15</text>\r\n<text text-anchor=\"middle\" x=\"236.5\" y=\"-245.8\" font-family=\"Helvetica,sans-Serif\" font-size=\"14.00\">value = [2, 13]</text>\r\n<text text-anchor=\"middle\" x=\"236.5\" y=\"-230.8\" font-family=\"Helvetica,sans-Serif\" font-size=\"14.00\">class = benign</text>\r\n</g>\r\n<!-- 3&#45;&gt;5 -->\r\n<g id=\"edge5\" class=\"edge\"><title>3&#45;&gt;5</title>\r\n<path fill=\"none\" stroke=\"black\" d=\"M233.888,-341.907C234.173,-333.558 234.477,-324.671 234.773,-316.02\"/>\r\n<polygon fill=\"black\" stroke=\"black\" points=\"238.271,-316.135 235.115,-306.021 231.275,-315.895 238.271,-316.135\"/>\r\n</g>\r\n<!-- 6 -->\r\n<g id=\"node7\" class=\"node\"><title>6</title>\r\n<path fill=\"#399de5\" stroke=\"black\" d=\"M198.5,-179.5C198.5,-179.5 114.5,-179.5 114.5,-179.5 108.5,-179.5 102.5,-173.5 102.5,-167.5 102.5,-167.5 102.5,-123.5 102.5,-123.5 102.5,-117.5 108.5,-111.5 114.5,-111.5 114.5,-111.5 198.5,-111.5 198.5,-111.5 204.5,-111.5 210.5,-117.5 210.5,-123.5 210.5,-123.5 210.5,-167.5 210.5,-167.5 210.5,-173.5 204.5,-179.5 198.5,-179.5\"/>\r\n<text text-anchor=\"middle\" x=\"156.5\" y=\"-164.3\" font-family=\"Helvetica,sans-Serif\" font-size=\"14.00\">entropy = 0.0</text>\r\n<text text-anchor=\"middle\" x=\"156.5\" y=\"-149.3\" font-family=\"Helvetica,sans-Serif\" font-size=\"14.00\">samples = 10</text>\r\n<text text-anchor=\"middle\" x=\"156.5\" y=\"-134.3\" font-family=\"Helvetica,sans-Serif\" font-size=\"14.00\">value = [0, 10]</text>\r\n<text text-anchor=\"middle\" x=\"156.5\" y=\"-119.3\" font-family=\"Helvetica,sans-Serif\" font-size=\"14.00\">class = benign</text>\r\n</g>\r\n<!-- 5&#45;&gt;6 -->\r\n<g id=\"edge6\" class=\"edge\"><title>5&#45;&gt;6</title>\r\n<path fill=\"none\" stroke=\"black\" d=\"M208.744,-222.907C201.049,-211.652 192.683,-199.418 184.949,-188.106\"/>\r\n<polygon fill=\"black\" stroke=\"black\" points=\"187.712,-185.946 179.178,-179.667 181.933,-189.897 187.712,-185.946\"/>\r\n</g>\r\n<!-- 7 -->\r\n<g id=\"node8\" class=\"node\"><title>7</title>\r\n<path fill=\"#bddef6\" stroke=\"black\" d=\"M392,-187C392,-187 241,-187 241,-187 235,-187 229,-181 229,-175 229,-175 229,-116 229,-116 229,-110 235,-104 241,-104 241,-104 392,-104 392,-104 398,-104 404,-110 404,-116 404,-116 404,-175 404,-175 404,-181 398,-187 392,-187\"/>\r\n<text text-anchor=\"middle\" x=\"316.5\" y=\"-171.8\" font-family=\"Helvetica,sans-Serif\" font-size=\"14.00\">mean concavity &lt;= 0.047</text>\r\n<text text-anchor=\"middle\" x=\"316.5\" y=\"-156.8\" font-family=\"Helvetica,sans-Serif\" font-size=\"14.00\">entropy = 0.971</text>\r\n<text text-anchor=\"middle\" x=\"316.5\" y=\"-141.8\" font-family=\"Helvetica,sans-Serif\" font-size=\"14.00\">samples = 5</text>\r\n<text text-anchor=\"middle\" x=\"316.5\" y=\"-126.8\" font-family=\"Helvetica,sans-Serif\" font-size=\"14.00\">value = [2, 3]</text>\r\n<text text-anchor=\"middle\" x=\"316.5\" y=\"-111.8\" font-family=\"Helvetica,sans-Serif\" font-size=\"14.00\">class = benign</text>\r\n</g>\r\n<!-- 5&#45;&gt;7 -->\r\n<g id=\"edge7\" class=\"edge\"><title>5&#45;&gt;7</title>\r\n<path fill=\"none\" stroke=\"black\" d=\"M264.256,-222.907C270.337,-214.014 276.836,-204.509 283.111,-195.331\"/>\r\n<polygon fill=\"black\" stroke=\"black\" points=\"286.038,-197.251 288.793,-187.021 280.26,-193.3 286.038,-197.251\"/>\r\n</g>\r\n<!-- 8 -->\r\n<g id=\"node9\" class=\"node\"><title>8</title>\r\n<path fill=\"#e58139\" stroke=\"black\" d=\"M299,-68C299,-68 198,-68 198,-68 192,-68 186,-62 186,-56 186,-56 186,-12 186,-12 186,-6 192,-0 198,-0 198,-0 299,-0 299,-0 305,-0 311,-6 311,-12 311,-12 311,-56 311,-56 311,-62 305,-68 299,-68\"/>\r\n<text text-anchor=\"middle\" x=\"248.5\" y=\"-52.8\" font-family=\"Helvetica,sans-Serif\" font-size=\"14.00\">entropy = 0.0</text>\r\n<text text-anchor=\"middle\" x=\"248.5\" y=\"-37.8\" font-family=\"Helvetica,sans-Serif\" font-size=\"14.00\">samples = 2</text>\r\n<text text-anchor=\"middle\" x=\"248.5\" y=\"-22.8\" font-family=\"Helvetica,sans-Serif\" font-size=\"14.00\">value = [2, 0]</text>\r\n<text text-anchor=\"middle\" x=\"248.5\" y=\"-7.8\" font-family=\"Helvetica,sans-Serif\" font-size=\"14.00\">class = malignant</text>\r\n</g>\r\n<!-- 7&#45;&gt;8 -->\r\n<g id=\"edge8\" class=\"edge\"><title>7&#45;&gt;8</title>\r\n<path fill=\"none\" stroke=\"black\" d=\"M291.179,-103.726C285.742,-94.9703 279.987,-85.7032 274.523,-76.9051\"/>\r\n<polygon fill=\"black\" stroke=\"black\" points=\"277.428,-74.9484 269.179,-68.2996 271.481,-78.6413 277.428,-74.9484\"/>\r\n</g>\r\n<!-- 9 -->\r\n<g id=\"node10\" class=\"node\"><title>9</title>\r\n<path fill=\"#399de5\" stroke=\"black\" d=\"M425.5,-68C425.5,-68 341.5,-68 341.5,-68 335.5,-68 329.5,-62 329.5,-56 329.5,-56 329.5,-12 329.5,-12 329.5,-6 335.5,-0 341.5,-0 341.5,-0 425.5,-0 425.5,-0 431.5,-0 437.5,-6 437.5,-12 437.5,-12 437.5,-56 437.5,-56 437.5,-62 431.5,-68 425.5,-68\"/>\r\n<text text-anchor=\"middle\" x=\"383.5\" y=\"-52.8\" font-family=\"Helvetica,sans-Serif\" font-size=\"14.00\">entropy = 0.0</text>\r\n<text text-anchor=\"middle\" x=\"383.5\" y=\"-37.8\" font-family=\"Helvetica,sans-Serif\" font-size=\"14.00\">samples = 3</text>\r\n<text text-anchor=\"middle\" x=\"383.5\" y=\"-22.8\" font-family=\"Helvetica,sans-Serif\" font-size=\"14.00\">value = [0, 3]</text>\r\n<text text-anchor=\"middle\" x=\"383.5\" y=\"-7.8\" font-family=\"Helvetica,sans-Serif\" font-size=\"14.00\">class = benign</text>\r\n</g>\r\n<!-- 7&#45;&gt;9 -->\r\n<g id=\"edge9\" class=\"edge\"><title>7&#45;&gt;9</title>\r\n<path fill=\"none\" stroke=\"black\" d=\"M341.448,-103.726C346.806,-94.9703 352.476,-85.7032 357.859,-76.9051\"/>\r\n<polygon fill=\"black\" stroke=\"black\" points=\"360.891,-78.6563 363.125,-68.2996 354.92,-75.0028 360.891,-78.6563\"/>\r\n</g>\r\n<!-- 11 -->\r\n<g id=\"node12\" class=\"node\"><title>11</title>\r\n<path fill=\"#e58139\" stroke=\"black\" d=\"M481,-298.5C481,-298.5 380,-298.5 380,-298.5 374,-298.5 368,-292.5 368,-286.5 368,-286.5 368,-242.5 368,-242.5 368,-236.5 374,-230.5 380,-230.5 380,-230.5 481,-230.5 481,-230.5 487,-230.5 493,-236.5 493,-242.5 493,-242.5 493,-286.5 493,-286.5 493,-292.5 487,-298.5 481,-298.5\"/>\r\n<text text-anchor=\"middle\" x=\"430.5\" y=\"-283.3\" font-family=\"Helvetica,sans-Serif\" font-size=\"14.00\">entropy = 0.0</text>\r\n<text text-anchor=\"middle\" x=\"430.5\" y=\"-268.3\" font-family=\"Helvetica,sans-Serif\" font-size=\"14.00\">samples = 2</text>\r\n<text text-anchor=\"middle\" x=\"430.5\" y=\"-253.3\" font-family=\"Helvetica,sans-Serif\" font-size=\"14.00\">value = [2, 0]</text>\r\n<text text-anchor=\"middle\" x=\"430.5\" y=\"-238.3\" font-family=\"Helvetica,sans-Serif\" font-size=\"14.00\">class = malignant</text>\r\n</g>\r\n<!-- 10&#45;&gt;11 -->\r\n<g id=\"edge11\" class=\"edge\"><title>10&#45;&gt;11</title>\r\n<path fill=\"none\" stroke=\"black\" d=\"M433.112,-341.907C432.746,-331.204 432.35,-319.615 431.98,-308.776\"/>\r\n<polygon fill=\"black\" stroke=\"black\" points=\"435.474,-308.541 431.634,-298.667 428.478,-308.781 435.474,-308.541\"/>\r\n</g>\r\n<!-- 12 -->\r\n<g id=\"node13\" class=\"node\"><title>12</title>\r\n<path fill=\"#399de5\" stroke=\"black\" d=\"M607.5,-298.5C607.5,-298.5 523.5,-298.5 523.5,-298.5 517.5,-298.5 511.5,-292.5 511.5,-286.5 511.5,-286.5 511.5,-242.5 511.5,-242.5 511.5,-236.5 517.5,-230.5 523.5,-230.5 523.5,-230.5 607.5,-230.5 607.5,-230.5 613.5,-230.5 619.5,-236.5 619.5,-242.5 619.5,-242.5 619.5,-286.5 619.5,-286.5 619.5,-292.5 613.5,-298.5 607.5,-298.5\"/>\r\n<text text-anchor=\"middle\" x=\"565.5\" y=\"-283.3\" font-family=\"Helvetica,sans-Serif\" font-size=\"14.00\">entropy = 0.0</text>\r\n<text text-anchor=\"middle\" x=\"565.5\" y=\"-268.3\" font-family=\"Helvetica,sans-Serif\" font-size=\"14.00\">samples = 2</text>\r\n<text text-anchor=\"middle\" x=\"565.5\" y=\"-253.3\" font-family=\"Helvetica,sans-Serif\" font-size=\"14.00\">value = [0, 2]</text>\r\n<text text-anchor=\"middle\" x=\"565.5\" y=\"-238.3\" font-family=\"Helvetica,sans-Serif\" font-size=\"14.00\">class = benign</text>\r\n</g>\r\n<!-- 10&#45;&gt;12 -->\r\n<g id=\"edge12\" class=\"edge\"><title>10&#45;&gt;12</title>\r\n<path fill=\"none\" stroke=\"black\" d=\"M479.95,-341.907C493.17,-330.101 507.595,-317.217 520.77,-305.45\"/>\r\n<polygon fill=\"black\" stroke=\"black\" points=\"523.237,-307.939 528.364,-298.667 518.575,-302.718 523.237,-307.939\"/>\r\n</g>\r\n<!-- 14 -->\r\n<g id=\"node15\" class=\"node\"><title>14</title>\r\n<path fill=\"#399de5\" stroke=\"black\" d=\"M649.5,-417.5C649.5,-417.5 565.5,-417.5 565.5,-417.5 559.5,-417.5 553.5,-411.5 553.5,-405.5 553.5,-405.5 553.5,-361.5 553.5,-361.5 553.5,-355.5 559.5,-349.5 565.5,-349.5 565.5,-349.5 649.5,-349.5 649.5,-349.5 655.5,-349.5 661.5,-355.5 661.5,-361.5 661.5,-361.5 661.5,-405.5 661.5,-405.5 661.5,-411.5 655.5,-417.5 649.5,-417.5\"/>\r\n<text text-anchor=\"middle\" x=\"607.5\" y=\"-402.3\" font-family=\"Helvetica,sans-Serif\" font-size=\"14.00\">entropy = 0.0</text>\r\n<text text-anchor=\"middle\" x=\"607.5\" y=\"-387.3\" font-family=\"Helvetica,sans-Serif\" font-size=\"14.00\">samples = 5</text>\r\n<text text-anchor=\"middle\" x=\"607.5\" y=\"-372.3\" font-family=\"Helvetica,sans-Serif\" font-size=\"14.00\">value = [0, 5]</text>\r\n<text text-anchor=\"middle\" x=\"607.5\" y=\"-357.3\" font-family=\"Helvetica,sans-Serif\" font-size=\"14.00\">class = benign</text>\r\n</g>\r\n<!-- 13&#45;&gt;14 -->\r\n<g id=\"edge14\" class=\"edge\"><title>13&#45;&gt;14</title>\r\n<path fill=\"none\" stroke=\"black\" d=\"M665.622,-460.907C656.976,-449.542 647.572,-437.178 638.896,-425.774\"/>\r\n<polygon fill=\"black\" stroke=\"black\" points=\"641.57,-423.507 632.73,-417.667 635.998,-427.745 641.57,-423.507\"/>\r\n</g>\r\n<!-- 15 -->\r\n<g id=\"node16\" class=\"node\"><title>15</title>\r\n<path fill=\"#e88e4d\" stroke=\"black\" d=\"M885.5,-425C885.5,-425 691.5,-425 691.5,-425 685.5,-425 679.5,-419 679.5,-413 679.5,-413 679.5,-354 679.5,-354 679.5,-348 685.5,-342 691.5,-342 691.5,-342 885.5,-342 885.5,-342 891.5,-342 897.5,-348 897.5,-354 897.5,-354 897.5,-413 897.5,-413 897.5,-419 891.5,-425 885.5,-425\"/>\r\n<text text-anchor=\"middle\" x=\"788.5\" y=\"-409.8\" font-family=\"Helvetica,sans-Serif\" font-size=\"14.00\">fractal dimension error &lt;= 0.003</text>\r\n<text text-anchor=\"middle\" x=\"788.5\" y=\"-394.8\" font-family=\"Helvetica,sans-Serif\" font-size=\"14.00\">entropy = 0.439</text>\r\n<text text-anchor=\"middle\" x=\"788.5\" y=\"-379.8\" font-family=\"Helvetica,sans-Serif\" font-size=\"14.00\">samples = 11</text>\r\n<text text-anchor=\"middle\" x=\"788.5\" y=\"-364.8\" font-family=\"Helvetica,sans-Serif\" font-size=\"14.00\">value = [10, 1]</text>\r\n<text text-anchor=\"middle\" x=\"788.5\" y=\"-349.8\" font-family=\"Helvetica,sans-Serif\" font-size=\"14.00\">class = malignant</text>\r\n</g>\r\n<!-- 13&#45;&gt;15 -->\r\n<g id=\"edge15\" class=\"edge\"><title>13&#45;&gt;15</title>\r\n<path fill=\"none\" stroke=\"black\" d=\"M728.419,-460.907C735.484,-451.923 743.039,-442.315 750.324,-433.05\"/>\r\n<polygon fill=\"black\" stroke=\"black\" points=\"753.208,-435.045 756.637,-425.021 747.705,-430.718 753.208,-435.045\"/>\r\n</g>\r\n<!-- 16 -->\r\n<g id=\"node17\" class=\"node\"><title>16</title>\r\n<path fill=\"#399de5\" stroke=\"black\" d=\"M740.5,-298.5C740.5,-298.5 656.5,-298.5 656.5,-298.5 650.5,-298.5 644.5,-292.5 644.5,-286.5 644.5,-286.5 644.5,-242.5 644.5,-242.5 644.5,-236.5 650.5,-230.5 656.5,-230.5 656.5,-230.5 740.5,-230.5 740.5,-230.5 746.5,-230.5 752.5,-236.5 752.5,-242.5 752.5,-242.5 752.5,-286.5 752.5,-286.5 752.5,-292.5 746.5,-298.5 740.5,-298.5\"/>\r\n<text text-anchor=\"middle\" x=\"698.5\" y=\"-283.3\" font-family=\"Helvetica,sans-Serif\" font-size=\"14.00\">entropy = 0.0</text>\r\n<text text-anchor=\"middle\" x=\"698.5\" y=\"-268.3\" font-family=\"Helvetica,sans-Serif\" font-size=\"14.00\">samples = 1</text>\r\n<text text-anchor=\"middle\" x=\"698.5\" y=\"-253.3\" font-family=\"Helvetica,sans-Serif\" font-size=\"14.00\">value = [0, 1]</text>\r\n<text text-anchor=\"middle\" x=\"698.5\" y=\"-238.3\" font-family=\"Helvetica,sans-Serif\" font-size=\"14.00\">class = benign</text>\r\n</g>\r\n<!-- 15&#45;&gt;16 -->\r\n<g id=\"edge16\" class=\"edge\"><title>15&#45;&gt;16</title>\r\n<path fill=\"none\" stroke=\"black\" d=\"M757.275,-341.907C748.532,-330.542 739.022,-318.178 730.249,-306.774\"/>\r\n<polygon fill=\"black\" stroke=\"black\" points=\"732.884,-304.459 724.013,-298.667 727.336,-308.727 732.884,-304.459\"/>\r\n</g>\r\n<!-- 17 -->\r\n<g id=\"node18\" class=\"node\"><title>17</title>\r\n<path fill=\"#e58139\" stroke=\"black\" d=\"M884,-298.5C884,-298.5 783,-298.5 783,-298.5 777,-298.5 771,-292.5 771,-286.5 771,-286.5 771,-242.5 771,-242.5 771,-236.5 777,-230.5 783,-230.5 783,-230.5 884,-230.5 884,-230.5 890,-230.5 896,-236.5 896,-242.5 896,-242.5 896,-286.5 896,-286.5 896,-292.5 890,-298.5 884,-298.5\"/>\r\n<text text-anchor=\"middle\" x=\"833.5\" y=\"-283.3\" font-family=\"Helvetica,sans-Serif\" font-size=\"14.00\">entropy = 0.0</text>\r\n<text text-anchor=\"middle\" x=\"833.5\" y=\"-268.3\" font-family=\"Helvetica,sans-Serif\" font-size=\"14.00\">samples = 10</text>\r\n<text text-anchor=\"middle\" x=\"833.5\" y=\"-253.3\" font-family=\"Helvetica,sans-Serif\" font-size=\"14.00\">value = [10, 0]</text>\r\n<text text-anchor=\"middle\" x=\"833.5\" y=\"-238.3\" font-family=\"Helvetica,sans-Serif\" font-size=\"14.00\">class = malignant</text>\r\n</g>\r\n<!-- 15&#45;&gt;17 -->\r\n<g id=\"edge17\" class=\"edge\"><title>15&#45;&gt;17</title>\r\n<path fill=\"none\" stroke=\"black\" d=\"M804.113,-341.907C808.314,-330.983 812.87,-319.137 817.113,-308.107\"/>\r\n<polygon fill=\"black\" stroke=\"black\" points=\"820.42,-309.257 820.743,-298.667 813.887,-306.744 820.42,-309.257\"/>\r\n</g>\r\n<!-- 19 -->\r\n<g id=\"node20\" class=\"node\"><title>19</title>\r\n<path fill=\"#f1bb94\" stroke=\"black\" d=\"M1084,-544C1084,-544 915,-544 915,-544 909,-544 903,-538 903,-532 903,-532 903,-473 903,-473 903,-467 909,-461 915,-461 915,-461 1084,-461 1084,-461 1090,-461 1096,-467 1096,-473 1096,-473 1096,-532 1096,-532 1096,-538 1090,-544 1084,-544\"/>\r\n<text text-anchor=\"middle\" x=\"999.5\" y=\"-528.8\" font-family=\"Helvetica,sans-Serif\" font-size=\"14.00\">worst smoothness &lt;= 0.139</text>\r\n<text text-anchor=\"middle\" x=\"999.5\" y=\"-513.8\" font-family=\"Helvetica,sans-Serif\" font-size=\"14.00\">entropy = 0.897</text>\r\n<text text-anchor=\"middle\" x=\"999.5\" y=\"-498.8\" font-family=\"Helvetica,sans-Serif\" font-size=\"14.00\">samples = 51</text>\r\n<text text-anchor=\"middle\" x=\"999.5\" y=\"-483.8\" font-family=\"Helvetica,sans-Serif\" font-size=\"14.00\">value = [35, 16]</text>\r\n<text text-anchor=\"middle\" x=\"999.5\" y=\"-468.8\" font-family=\"Helvetica,sans-Serif\" font-size=\"14.00\">class = malignant</text>\r\n</g>\r\n<!-- 18&#45;&gt;19 -->\r\n<g id=\"edge19\" class=\"edge\"><title>18&#45;&gt;19</title>\r\n<path fill=\"none\" stroke=\"black\" d=\"M999.5,-579.907C999.5,-571.649 999.5,-562.864 999.5,-554.302\"/>\r\n<polygon fill=\"black\" stroke=\"black\" points=\"1003,-554.021 999.5,-544.021 996,-554.021 1003,-554.021\"/>\r\n</g>\r\n<!-- 26 -->\r\n<g id=\"node27\" class=\"node\"><title>26</title>\r\n<path fill=\"#e58139\" stroke=\"black\" d=\"M1227,-536.5C1227,-536.5 1126,-536.5 1126,-536.5 1120,-536.5 1114,-530.5 1114,-524.5 1114,-524.5 1114,-480.5 1114,-480.5 1114,-474.5 1120,-468.5 1126,-468.5 1126,-468.5 1227,-468.5 1227,-468.5 1233,-468.5 1239,-474.5 1239,-480.5 1239,-480.5 1239,-524.5 1239,-524.5 1239,-530.5 1233,-536.5 1227,-536.5\"/>\r\n<text text-anchor=\"middle\" x=\"1176.5\" y=\"-521.3\" font-family=\"Helvetica,sans-Serif\" font-size=\"14.00\">entropy = 0.0</text>\r\n<text text-anchor=\"middle\" x=\"1176.5\" y=\"-506.3\" font-family=\"Helvetica,sans-Serif\" font-size=\"14.00\">samples = 124</text>\r\n<text text-anchor=\"middle\" x=\"1176.5\" y=\"-491.3\" font-family=\"Helvetica,sans-Serif\" font-size=\"14.00\">value = [124, 0]</text>\r\n<text text-anchor=\"middle\" x=\"1176.5\" y=\"-476.3\" font-family=\"Helvetica,sans-Serif\" font-size=\"14.00\">class = malignant</text>\r\n</g>\r\n<!-- 18&#45;&gt;26 -->\r\n<g id=\"edge26\" class=\"edge\"><title>18&#45;&gt;26</title>\r\n<path fill=\"none\" stroke=\"black\" d=\"M1060.91,-579.907C1079.27,-567.769 1099.36,-554.493 1117.56,-542.462\"/>\r\n<polygon fill=\"black\" stroke=\"black\" points=\"1119.91,-545.101 1126.32,-536.667 1116.05,-539.262 1119.91,-545.101\"/>\r\n</g>\r\n<!-- 20 -->\r\n<g id=\"node21\" class=\"node\"><title>20</title>\r\n<path fill=\"#9ccef2\" stroke=\"black\" d=\"M1071,-425C1071,-425 928,-425 928,-425 922,-425 916,-419 916,-413 916,-413 916,-354 916,-354 916,-348 922,-342 928,-342 928,-342 1071,-342 1071,-342 1077,-342 1083,-348 1083,-354 1083,-354 1083,-413 1083,-413 1083,-419 1077,-425 1071,-425\"/>\r\n<text text-anchor=\"middle\" x=\"999.5\" y=\"-409.8\" font-family=\"Helvetica,sans-Serif\" font-size=\"14.00\">mean texture &lt;= 20.555</text>\r\n<text text-anchor=\"middle\" x=\"999.5\" y=\"-394.8\" font-family=\"Helvetica,sans-Serif\" font-size=\"14.00\">entropy = 0.918</text>\r\n<text text-anchor=\"middle\" x=\"999.5\" y=\"-379.8\" font-family=\"Helvetica,sans-Serif\" font-size=\"14.00\">samples = 24</text>\r\n<text text-anchor=\"middle\" x=\"999.5\" y=\"-364.8\" font-family=\"Helvetica,sans-Serif\" font-size=\"14.00\">value = [8, 16]</text>\r\n<text text-anchor=\"middle\" x=\"999.5\" y=\"-349.8\" font-family=\"Helvetica,sans-Serif\" font-size=\"14.00\">class = benign</text>\r\n</g>\r\n<!-- 19&#45;&gt;20 -->\r\n<g id=\"edge20\" class=\"edge\"><title>19&#45;&gt;20</title>\r\n<path fill=\"none\" stroke=\"black\" d=\"M999.5,-460.907C999.5,-452.649 999.5,-443.864 999.5,-435.302\"/>\r\n<polygon fill=\"black\" stroke=\"black\" points=\"1003,-435.021 999.5,-425.021 996,-435.021 1003,-435.021\"/>\r\n</g>\r\n<!-- 25 -->\r\n<g id=\"node26\" class=\"node\"><title>25</title>\r\n<path fill=\"#e58139\" stroke=\"black\" d=\"M1214,-417.5C1214,-417.5 1113,-417.5 1113,-417.5 1107,-417.5 1101,-411.5 1101,-405.5 1101,-405.5 1101,-361.5 1101,-361.5 1101,-355.5 1107,-349.5 1113,-349.5 1113,-349.5 1214,-349.5 1214,-349.5 1220,-349.5 1226,-355.5 1226,-361.5 1226,-361.5 1226,-405.5 1226,-405.5 1226,-411.5 1220,-417.5 1214,-417.5\"/>\r\n<text text-anchor=\"middle\" x=\"1163.5\" y=\"-402.3\" font-family=\"Helvetica,sans-Serif\" font-size=\"14.00\">entropy = 0.0</text>\r\n<text text-anchor=\"middle\" x=\"1163.5\" y=\"-387.3\" font-family=\"Helvetica,sans-Serif\" font-size=\"14.00\">samples = 27</text>\r\n<text text-anchor=\"middle\" x=\"1163.5\" y=\"-372.3\" font-family=\"Helvetica,sans-Serif\" font-size=\"14.00\">value = [27, 0]</text>\r\n<text text-anchor=\"middle\" x=\"1163.5\" y=\"-357.3\" font-family=\"Helvetica,sans-Serif\" font-size=\"14.00\">class = malignant</text>\r\n</g>\r\n<!-- 19&#45;&gt;25 -->\r\n<g id=\"edge25\" class=\"edge\"><title>19&#45;&gt;25</title>\r\n<path fill=\"none\" stroke=\"black\" d=\"M1056.4,-460.907C1073.26,-448.88 1091.68,-435.735 1108.43,-423.791\"/>\r\n<polygon fill=\"black\" stroke=\"black\" points=\"1110.9,-426.324 1117.01,-417.667 1106.84,-420.625 1110.9,-426.324\"/>\r\n</g>\r\n<!-- 21 -->\r\n<g id=\"node22\" class=\"node\"><title>21</title>\r\n<path fill=\"#45a3e7\" stroke=\"black\" d=\"M1064.5,-306C1064.5,-306 930.5,-306 930.5,-306 924.5,-306 918.5,-300 918.5,-294 918.5,-294 918.5,-235 918.5,-235 918.5,-229 924.5,-223 930.5,-223 930.5,-223 1064.5,-223 1064.5,-223 1070.5,-223 1076.5,-229 1076.5,-235 1076.5,-235 1076.5,-294 1076.5,-294 1076.5,-300 1070.5,-306 1064.5,-306\"/>\r\n<text text-anchor=\"middle\" x=\"997.5\" y=\"-290.8\" font-family=\"Helvetica,sans-Serif\" font-size=\"14.00\">worst texture &lt;= 29.87</text>\r\n<text text-anchor=\"middle\" x=\"997.5\" y=\"-275.8\" font-family=\"Helvetica,sans-Serif\" font-size=\"14.00\">entropy = 0.323</text>\r\n<text text-anchor=\"middle\" x=\"997.5\" y=\"-260.8\" font-family=\"Helvetica,sans-Serif\" font-size=\"14.00\">samples = 17</text>\r\n<text text-anchor=\"middle\" x=\"997.5\" y=\"-245.8\" font-family=\"Helvetica,sans-Serif\" font-size=\"14.00\">value = [1, 16]</text>\r\n<text text-anchor=\"middle\" x=\"997.5\" y=\"-230.8\" font-family=\"Helvetica,sans-Serif\" font-size=\"14.00\">class = benign</text>\r\n</g>\r\n<!-- 20&#45;&gt;21 -->\r\n<g id=\"edge21\" class=\"edge\"><title>20&#45;&gt;21</title>\r\n<path fill=\"none\" stroke=\"black\" d=\"M998.806,-341.907C998.663,-333.558 998.511,-324.671 998.364,-316.02\"/>\r\n<polygon fill=\"black\" stroke=\"black\" points=\"1001.86,-315.959 998.193,-306.021 994.864,-316.079 1001.86,-315.959\"/>\r\n</g>\r\n<!-- 24 -->\r\n<g id=\"node25\" class=\"node\"><title>24</title>\r\n<path fill=\"#e58139\" stroke=\"black\" d=\"M1208,-298.5C1208,-298.5 1107,-298.5 1107,-298.5 1101,-298.5 1095,-292.5 1095,-286.5 1095,-286.5 1095,-242.5 1095,-242.5 1095,-236.5 1101,-230.5 1107,-230.5 1107,-230.5 1208,-230.5 1208,-230.5 1214,-230.5 1220,-236.5 1220,-242.5 1220,-242.5 1220,-286.5 1220,-286.5 1220,-292.5 1214,-298.5 1208,-298.5\"/>\r\n<text text-anchor=\"middle\" x=\"1157.5\" y=\"-283.3\" font-family=\"Helvetica,sans-Serif\" font-size=\"14.00\">entropy = 0.0</text>\r\n<text text-anchor=\"middle\" x=\"1157.5\" y=\"-268.3\" font-family=\"Helvetica,sans-Serif\" font-size=\"14.00\">samples = 7</text>\r\n<text text-anchor=\"middle\" x=\"1157.5\" y=\"-253.3\" font-family=\"Helvetica,sans-Serif\" font-size=\"14.00\">value = [7, 0]</text>\r\n<text text-anchor=\"middle\" x=\"1157.5\" y=\"-238.3\" font-family=\"Helvetica,sans-Serif\" font-size=\"14.00\">class = malignant</text>\r\n</g>\r\n<!-- 20&#45;&gt;24 -->\r\n<g id=\"edge24\" class=\"edge\"><title>20&#45;&gt;24</title>\r\n<path fill=\"none\" stroke=\"black\" d=\"M1054.32,-341.907C1070.56,-329.88 1088.31,-316.735 1104.44,-304.791\"/>\r\n<polygon fill=\"black\" stroke=\"black\" points=\"1106.76,-307.431 1112.71,-298.667 1102.59,-301.805 1106.76,-307.431\"/>\r\n</g>\r\n<!-- 22 -->\r\n<g id=\"node23\" class=\"node\"><title>22</title>\r\n<path fill=\"#399de5\" stroke=\"black\" d=\"M971.5,-179.5C971.5,-179.5 887.5,-179.5 887.5,-179.5 881.5,-179.5 875.5,-173.5 875.5,-167.5 875.5,-167.5 875.5,-123.5 875.5,-123.5 875.5,-117.5 881.5,-111.5 887.5,-111.5 887.5,-111.5 971.5,-111.5 971.5,-111.5 977.5,-111.5 983.5,-117.5 983.5,-123.5 983.5,-123.5 983.5,-167.5 983.5,-167.5 983.5,-173.5 977.5,-179.5 971.5,-179.5\"/>\r\n<text text-anchor=\"middle\" x=\"929.5\" y=\"-164.3\" font-family=\"Helvetica,sans-Serif\" font-size=\"14.00\">entropy = 0.0</text>\r\n<text text-anchor=\"middle\" x=\"929.5\" y=\"-149.3\" font-family=\"Helvetica,sans-Serif\" font-size=\"14.00\">samples = 16</text>\r\n<text text-anchor=\"middle\" x=\"929.5\" y=\"-134.3\" font-family=\"Helvetica,sans-Serif\" font-size=\"14.00\">value = [0, 16]</text>\r\n<text text-anchor=\"middle\" x=\"929.5\" y=\"-119.3\" font-family=\"Helvetica,sans-Serif\" font-size=\"14.00\">class = benign</text>\r\n</g>\r\n<!-- 21&#45;&gt;22 -->\r\n<g id=\"edge22\" class=\"edge\"><title>21&#45;&gt;22</title>\r\n<path fill=\"none\" stroke=\"black\" d=\"M973.908,-222.907C967.43,-211.763 960.395,-199.658 953.875,-188.439\"/>\r\n<polygon fill=\"black\" stroke=\"black\" points=\"956.828,-186.554 948.777,-179.667 950.775,-190.072 956.828,-186.554\"/>\r\n</g>\r\n<!-- 23 -->\r\n<g id=\"node24\" class=\"node\"><title>23</title>\r\n<path fill=\"#e58139\" stroke=\"black\" d=\"M1115,-179.5C1115,-179.5 1014,-179.5 1014,-179.5 1008,-179.5 1002,-173.5 1002,-167.5 1002,-167.5 1002,-123.5 1002,-123.5 1002,-117.5 1008,-111.5 1014,-111.5 1014,-111.5 1115,-111.5 1115,-111.5 1121,-111.5 1127,-117.5 1127,-123.5 1127,-123.5 1127,-167.5 1127,-167.5 1127,-173.5 1121,-179.5 1115,-179.5\"/>\r\n<text text-anchor=\"middle\" x=\"1064.5\" y=\"-164.3\" font-family=\"Helvetica,sans-Serif\" font-size=\"14.00\">entropy = 0.0</text>\r\n<text text-anchor=\"middle\" x=\"1064.5\" y=\"-149.3\" font-family=\"Helvetica,sans-Serif\" font-size=\"14.00\">samples = 1</text>\r\n<text text-anchor=\"middle\" x=\"1064.5\" y=\"-134.3\" font-family=\"Helvetica,sans-Serif\" font-size=\"14.00\">value = [1, 0]</text>\r\n<text text-anchor=\"middle\" x=\"1064.5\" y=\"-119.3\" font-family=\"Helvetica,sans-Serif\" font-size=\"14.00\">class = malignant</text>\r\n</g>\r\n<!-- 21&#45;&gt;23 -->\r\n<g id=\"edge23\" class=\"edge\"><title>21&#45;&gt;23</title>\r\n<path fill=\"none\" stroke=\"black\" d=\"M1020.75,-222.907C1027.13,-211.763 1034.06,-199.658 1040.48,-188.439\"/>\r\n<polygon fill=\"black\" stroke=\"black\" points=\"1043.57,-190.084 1045.51,-179.667 1037.5,-186.606 1043.57,-190.084\"/>\r\n</g>\r\n</g>\r\n</svg>\r\n",
      "text/plain": [
       "<graphviz.files.Source at 0x2b7013bbbb0>"
      ]
     },
     "execution_count": 128,
     "metadata": {},
     "output_type": "execute_result"
    }
   ],
   "source": [
    "#Insérez votre code ici\n",
    "import os\n",
    "from graphviz import Source\n",
    "from sklearn.tree import export_graphviz\n",
    "export_graphviz(tree1, out_file=os.path.join(\"breast_tree.dot\"), feature_names=Nom,\n",
    "class_names=Target, rounded=True, filled=True)\n",
    "Source.from_file(os.path.join(\"breast_tree.dot\"))"
   ]
  },
  {
   "cell_type": "markdown",
   "metadata": {
    "deletable": false,
    "editable": false
   },
   "source": [
    "<div class=\"alert alert-block alert-info\" style='color:MidnightBlue; background-color: AliceBlue ; border-radius: 30px; border-color: black; '>\n",
    "    1.9\tRéalisez la prédiction sur les données de test.\n",
    "    </div>"
   ]
  },
  {
   "cell_type": "code",
   "execution_count": 129,
   "metadata": {},
   "outputs": [],
   "source": [
    "#Insérez votre code ici\n",
    "y_pred =tree1.predict(X_test)"
   ]
  },
  {
   "cell_type": "markdown",
   "metadata": {
    "deletable": false,
    "editable": false
   },
   "source": [
    "\n",
    "<div class=\"alert alert-block alert-info\" style='color:MidnightBlue; background-color: AliceBlue ; border-radius: 30px; border-color: black; '>\n",
    "    1.10\tAffichez la matrice de confusion obtenue sur les données de test (sans utiliser la validation croisée). Expliquer le résultat obtneu.\n",
    "    </div>"
   ]
  },
  {
   "cell_type": "code",
   "execution_count": 130,
   "metadata": {},
   "outputs": [
    {
     "name": "stdout",
     "output_type": "stream",
     "text": [
      "[[ 38   1]\n",
      " [ 11 121]]\n"
     ]
    }
   ],
   "source": [
    "#Insérez votre code ici\n",
    "from sklearn.metrics import confusion_matrix\n",
    "results = confusion_matrix(y_test,y_pred)\n",
    "print (results)"
   ]
  },
  {
   "cell_type": "markdown",
   "metadata": {
    "deletable": false,
    "editable": false
   },
   "source": [
    "<div class=\"alert alert-block alert-info\" style='color:MidnightBlue; background-color: AliceBlue ; border-radius: 30px; border-color: black; '>\n",
    "    1.11\tAfficher les métriques de classification suivantes : précision, rappel et F1. Expliquer à quoi correspond chaque métrique et les résultats obtenus.\n",
    "    </div>"
   ]
  },
  {
   "cell_type": "code",
   "execution_count": 131,
   "metadata": {},
   "outputs": [
    {
     "name": "stdout",
     "output_type": "stream",
     "text": [
      "0.9918032786885246\n",
      "0.9166666666666666\n",
      "F1 score : 0.952755905511811\n"
     ]
    }
   ],
   "source": [
    "#Insérez votre code ici\n",
    "from sklearn.metrics import precision_score, recall_score, f1_score\n",
    "print (precision_score(y_test,y_pred))\n",
    "print (recall_score(y_test,y_pred))\n",
    "print (\"F1 score : {}\".format(f1_score(y_test,y_pred)))"
   ]
  },
  {
   "cell_type": "markdown",
   "metadata": {
    "deletable": false,
    "editable": false
   },
   "source": [
    "\n",
    "<div class=\"alert alert-block alert-info\" style='color:MidnightBlue; background-color: AliceBlue ; border-radius: 30px; border-color: black; '>\n",
    "    1.12\tConstruisez un autre arbre de décision que vous appellerez tree2 et entrainez-le sur les données de la base d’entrainement en prenant comme paramètres : criterion=\"entropy\" et une hauteur maximum d’arbre =3.  \n",
    "    </div>"
   ]
  },
  {
   "cell_type": "code",
   "execution_count": 132,
   "metadata": {},
   "outputs": [
    {
     "data": {
      "text/plain": [
       "DecisionTreeClassifier(criterion='entropy', max_depth=3)"
      ]
     },
     "execution_count": 132,
     "metadata": {},
     "output_type": "execute_result"
    }
   ],
   "source": [
    "tree2 = DecisionTreeClassifier(criterion=\"entropy\",max_depth=3)\n",
    "tree2.fit(X_train,y_train)"
   ]
  },
  {
   "cell_type": "markdown",
   "metadata": {
    "deletable": false,
    "editable": false
   },
   "source": [
    "\n",
    "<div class=\"alert alert-block alert-info\" style='color:MidnightBlue; background-color: AliceBlue ; border-radius: 30px; border-color: black; '>\n",
    "    1.13\tAfficher l’arbre obtenu. Commentez le résultat obtenu.\n",
    "    </div>"
   ]
  },
  {
   "cell_type": "code",
   "execution_count": 133,
   "metadata": {},
   "outputs": [
    {
     "data": {
      "image/svg+xml": "<?xml version=\"1.0\" encoding=\"UTF-8\" standalone=\"no\"?>\r\n<!DOCTYPE svg PUBLIC \"-//W3C//DTD SVG 1.1//EN\"\r\n \"http://www.w3.org/Graphics/SVG/1.1/DTD/svg11.dtd\">\r\n<!-- Generated by graphviz version 2.38.0 (20140413.2041)\r\n -->\r\n<!-- Title: Tree Pages: 1 -->\r\n<svg width=\"850pt\" height=\"433pt\"\r\n viewBox=\"0.00 0.00 850.00 433.00\" xmlns=\"http://www.w3.org/2000/svg\" xmlns:xlink=\"http://www.w3.org/1999/xlink\">\r\n<g id=\"graph0\" class=\"graph\" transform=\"scale(1 1) rotate(0) translate(4 429)\">\r\n<title>Tree</title>\r\n<polygon fill=\"white\" stroke=\"none\" points=\"-4,4 -4,-429 846,-429 846,4 -4,4\"/>\r\n<!-- 0 -->\r\n<g id=\"node1\" class=\"node\"><title>0</title>\r\n<path fill=\"#d1e8f9\" stroke=\"black\" d=\"M569.5,-425C569.5,-425 409.5,-425 409.5,-425 403.5,-425 397.5,-419 397.5,-413 397.5,-413 397.5,-354 397.5,-354 397.5,-348 403.5,-342 409.5,-342 409.5,-342 569.5,-342 569.5,-342 575.5,-342 581.5,-348 581.5,-354 581.5,-354 581.5,-413 581.5,-413 581.5,-419 575.5,-425 569.5,-425\"/>\r\n<text text-anchor=\"middle\" x=\"489.5\" y=\"-409.8\" font-family=\"Helvetica,sans-Serif\" font-size=\"14.00\">worst perimeter &lt;= 105.15</text>\r\n<text text-anchor=\"middle\" x=\"489.5\" y=\"-394.8\" font-family=\"Helvetica,sans-Serif\" font-size=\"14.00\">entropy = 0.988</text>\r\n<text text-anchor=\"middle\" x=\"489.5\" y=\"-379.8\" font-family=\"Helvetica,sans-Serif\" font-size=\"14.00\">samples = 398</text>\r\n<text text-anchor=\"middle\" x=\"489.5\" y=\"-364.8\" font-family=\"Helvetica,sans-Serif\" font-size=\"14.00\">value = [173, 225]</text>\r\n<text text-anchor=\"middle\" x=\"489.5\" y=\"-349.8\" font-family=\"Helvetica,sans-Serif\" font-size=\"14.00\">class = benign</text>\r\n</g>\r\n<!-- 1 -->\r\n<g id=\"node2\" class=\"node\"><title>1</title>\r\n<path fill=\"#46a4e7\" stroke=\"black\" d=\"M469.5,-306C469.5,-306 283.5,-306 283.5,-306 277.5,-306 271.5,-300 271.5,-294 271.5,-294 271.5,-235 271.5,-235 271.5,-229 277.5,-223 283.5,-223 283.5,-223 469.5,-223 469.5,-223 475.5,-223 481.5,-229 481.5,-235 481.5,-235 481.5,-294 481.5,-294 481.5,-300 475.5,-306 469.5,-306\"/>\r\n<text text-anchor=\"middle\" x=\"376.5\" y=\"-290.8\" font-family=\"Helvetica,sans-Serif\" font-size=\"14.00\">worst concave points &lt;= 0.134</text>\r\n<text text-anchor=\"middle\" x=\"376.5\" y=\"-275.8\" font-family=\"Helvetica,sans-Serif\" font-size=\"14.00\">entropy = 0.338</text>\r\n<text text-anchor=\"middle\" x=\"376.5\" y=\"-260.8\" font-family=\"Helvetica,sans-Serif\" font-size=\"14.00\">samples = 223</text>\r\n<text text-anchor=\"middle\" x=\"376.5\" y=\"-245.8\" font-family=\"Helvetica,sans-Serif\" font-size=\"14.00\">value = [14, 209]</text>\r\n<text text-anchor=\"middle\" x=\"376.5\" y=\"-230.8\" font-family=\"Helvetica,sans-Serif\" font-size=\"14.00\">class = benign</text>\r\n</g>\r\n<!-- 0&#45;&gt;1 -->\r\n<g id=\"edge1\" class=\"edge\"><title>0&#45;&gt;1</title>\r\n<path fill=\"none\" stroke=\"black\" d=\"M450.295,-341.907C441.443,-332.742 431.963,-322.927 422.848,-313.489\"/>\r\n<polygon fill=\"black\" stroke=\"black\" points=\"425.1,-310.782 415.635,-306.021 420.065,-315.645 425.1,-310.782\"/>\r\n<text text-anchor=\"middle\" x=\"415.201\" y=\"-327.317\" font-family=\"Helvetica,sans-Serif\" font-size=\"14.00\">True</text>\r\n</g>\r\n<!-- 8 -->\r\n<g id=\"node9\" class=\"node\"><title>8</title>\r\n<path fill=\"#e88e4d\" stroke=\"black\" d=\"M682.5,-306C682.5,-306 522.5,-306 522.5,-306 516.5,-306 510.5,-300 510.5,-294 510.5,-294 510.5,-235 510.5,-235 510.5,-229 516.5,-223 522.5,-223 522.5,-223 682.5,-223 682.5,-223 688.5,-223 694.5,-229 694.5,-235 694.5,-235 694.5,-294 694.5,-294 694.5,-300 688.5,-306 682.5,-306\"/>\r\n<text text-anchor=\"middle\" x=\"602.5\" y=\"-290.8\" font-family=\"Helvetica,sans-Serif\" font-size=\"14.00\">worst perimeter &lt;= 120.35</text>\r\n<text text-anchor=\"middle\" x=\"602.5\" y=\"-275.8\" font-family=\"Helvetica,sans-Serif\" font-size=\"14.00\">entropy = 0.441</text>\r\n<text text-anchor=\"middle\" x=\"602.5\" y=\"-260.8\" font-family=\"Helvetica,sans-Serif\" font-size=\"14.00\">samples = 175</text>\r\n<text text-anchor=\"middle\" x=\"602.5\" y=\"-245.8\" font-family=\"Helvetica,sans-Serif\" font-size=\"14.00\">value = [159, 16]</text>\r\n<text text-anchor=\"middle\" x=\"602.5\" y=\"-230.8\" font-family=\"Helvetica,sans-Serif\" font-size=\"14.00\">class = malignant</text>\r\n</g>\r\n<!-- 0&#45;&gt;8 -->\r\n<g id=\"edge8\" class=\"edge\"><title>0&#45;&gt;8</title>\r\n<path fill=\"none\" stroke=\"black\" d=\"M528.705,-341.907C537.557,-332.742 547.037,-322.927 556.152,-313.489\"/>\r\n<polygon fill=\"black\" stroke=\"black\" points=\"558.935,-315.645 563.365,-306.021 553.9,-310.782 558.935,-315.645\"/>\r\n<text text-anchor=\"middle\" x=\"563.799\" y=\"-327.317\" font-family=\"Helvetica,sans-Serif\" font-size=\"14.00\">False</text>\r\n</g>\r\n<!-- 2 -->\r\n<g id=\"node3\" class=\"node\"><title>2</title>\r\n<path fill=\"#3d9fe6\" stroke=\"black\" d=\"M256,-187C256,-187 131,-187 131,-187 125,-187 119,-181 119,-175 119,-175 119,-116 119,-116 119,-110 125,-104 131,-104 131,-104 256,-104 256,-104 262,-104 268,-110 268,-116 268,-116 268,-175 268,-175 268,-181 262,-187 256,-187\"/>\r\n<text text-anchor=\"middle\" x=\"193.5\" y=\"-171.8\" font-family=\"Helvetica,sans-Serif\" font-size=\"14.00\">radius error &lt;= 0.643</text>\r\n<text text-anchor=\"middle\" x=\"193.5\" y=\"-156.8\" font-family=\"Helvetica,sans-Serif\" font-size=\"14.00\">entropy = 0.138</text>\r\n<text text-anchor=\"middle\" x=\"193.5\" y=\"-141.8\" font-family=\"Helvetica,sans-Serif\" font-size=\"14.00\">samples = 207</text>\r\n<text text-anchor=\"middle\" x=\"193.5\" y=\"-126.8\" font-family=\"Helvetica,sans-Serif\" font-size=\"14.00\">value = [4, 203]</text>\r\n<text text-anchor=\"middle\" x=\"193.5\" y=\"-111.8\" font-family=\"Helvetica,sans-Serif\" font-size=\"14.00\">class = benign</text>\r\n</g>\r\n<!-- 1&#45;&gt;2 -->\r\n<g id=\"edge2\" class=\"edge\"><title>1&#45;&gt;2</title>\r\n<path fill=\"none\" stroke=\"black\" d=\"M313.009,-222.907C297.679,-213.106 281.188,-202.563 265.5,-192.533\"/>\r\n<polygon fill=\"black\" stroke=\"black\" points=\"267.189,-189.459 256.879,-187.021 263.419,-195.356 267.189,-189.459\"/>\r\n</g>\r\n<!-- 5 -->\r\n<g id=\"node6\" class=\"node\"><title>5</title>\r\n<path fill=\"#f5cdb0\" stroke=\"black\" d=\"M443.5,-187C443.5,-187 309.5,-187 309.5,-187 303.5,-187 297.5,-181 297.5,-175 297.5,-175 297.5,-116 297.5,-116 297.5,-110 303.5,-104 309.5,-104 309.5,-104 443.5,-104 443.5,-104 449.5,-104 455.5,-110 455.5,-116 455.5,-116 455.5,-175 455.5,-175 455.5,-181 449.5,-187 443.5,-187\"/>\r\n<text text-anchor=\"middle\" x=\"376.5\" y=\"-171.8\" font-family=\"Helvetica,sans-Serif\" font-size=\"14.00\">worst texture &lt;= 23.47</text>\r\n<text text-anchor=\"middle\" x=\"376.5\" y=\"-156.8\" font-family=\"Helvetica,sans-Serif\" font-size=\"14.00\">entropy = 0.954</text>\r\n<text text-anchor=\"middle\" x=\"376.5\" y=\"-141.8\" font-family=\"Helvetica,sans-Serif\" font-size=\"14.00\">samples = 16</text>\r\n<text text-anchor=\"middle\" x=\"376.5\" y=\"-126.8\" font-family=\"Helvetica,sans-Serif\" font-size=\"14.00\">value = [10, 6]</text>\r\n<text text-anchor=\"middle\" x=\"376.5\" y=\"-111.8\" font-family=\"Helvetica,sans-Serif\" font-size=\"14.00\">class = malignant</text>\r\n</g>\r\n<!-- 1&#45;&gt;5 -->\r\n<g id=\"edge5\" class=\"edge\"><title>1&#45;&gt;5</title>\r\n<path fill=\"none\" stroke=\"black\" d=\"M376.5,-222.907C376.5,-214.649 376.5,-205.864 376.5,-197.302\"/>\r\n<polygon fill=\"black\" stroke=\"black\" points=\"380,-197.021 376.5,-187.021 373,-197.021 380,-197.021\"/>\r\n</g>\r\n<!-- 3 -->\r\n<g id=\"node4\" class=\"node\"><title>3</title>\r\n<path fill=\"#3b9ee5\" stroke=\"black\" d=\"M101,-68C101,-68 12,-68 12,-68 6,-68 0,-62 0,-56 0,-56 0,-12 0,-12 0,-6 6,-0 12,-0 12,-0 101,-0 101,-0 107,-0 113,-6 113,-12 113,-12 113,-56 113,-56 113,-62 107,-68 101,-68\"/>\r\n<text text-anchor=\"middle\" x=\"56.5\" y=\"-52.8\" font-family=\"Helvetica,sans-Serif\" font-size=\"14.00\">entropy = 0.08</text>\r\n<text text-anchor=\"middle\" x=\"56.5\" y=\"-37.8\" font-family=\"Helvetica,sans-Serif\" font-size=\"14.00\">samples = 203</text>\r\n<text text-anchor=\"middle\" x=\"56.5\" y=\"-22.8\" font-family=\"Helvetica,sans-Serif\" font-size=\"14.00\">value = [2, 201]</text>\r\n<text text-anchor=\"middle\" x=\"56.5\" y=\"-7.8\" font-family=\"Helvetica,sans-Serif\" font-size=\"14.00\">class = benign</text>\r\n</g>\r\n<!-- 2&#45;&gt;3 -->\r\n<g id=\"edge3\" class=\"edge\"><title>2&#45;&gt;3</title>\r\n<path fill=\"none\" stroke=\"black\" d=\"M142.486,-103.726C130.618,-94.2406 118,-84.1551 106.19,-74.7159\"/>\r\n<polygon fill=\"black\" stroke=\"black\" points=\"108.159,-71.8091 98.1625,-68.2996 103.789,-77.2771 108.159,-71.8091\"/>\r\n</g>\r\n<!-- 4 -->\r\n<g id=\"node5\" class=\"node\"><title>4</title>\r\n<path fill=\"#ffffff\" stroke=\"black\" d=\"M244,-68C244,-68 143,-68 143,-68 137,-68 131,-62 131,-56 131,-56 131,-12 131,-12 131,-6 137,-0 143,-0 143,-0 244,-0 244,-0 250,-0 256,-6 256,-12 256,-12 256,-56 256,-56 256,-62 250,-68 244,-68\"/>\r\n<text text-anchor=\"middle\" x=\"193.5\" y=\"-52.8\" font-family=\"Helvetica,sans-Serif\" font-size=\"14.00\">entropy = 1.0</text>\r\n<text text-anchor=\"middle\" x=\"193.5\" y=\"-37.8\" font-family=\"Helvetica,sans-Serif\" font-size=\"14.00\">samples = 4</text>\r\n<text text-anchor=\"middle\" x=\"193.5\" y=\"-22.8\" font-family=\"Helvetica,sans-Serif\" font-size=\"14.00\">value = [2, 2]</text>\r\n<text text-anchor=\"middle\" x=\"193.5\" y=\"-7.8\" font-family=\"Helvetica,sans-Serif\" font-size=\"14.00\">class = malignant</text>\r\n</g>\r\n<!-- 2&#45;&gt;4 -->\r\n<g id=\"edge4\" class=\"edge\"><title>2&#45;&gt;4</title>\r\n<path fill=\"none\" stroke=\"black\" d=\"M193.5,-103.726C193.5,-95.5175 193.5,-86.8595 193.5,-78.56\"/>\r\n<polygon fill=\"black\" stroke=\"black\" points=\"197,-78.2996 193.5,-68.2996 190,-78.2996 197,-78.2996\"/>\r\n</g>\r\n<!-- 6 -->\r\n<g id=\"node7\" class=\"node\"><title>6</title>\r\n<path fill=\"#399de5\" stroke=\"black\" d=\"M370.5,-68C370.5,-68 286.5,-68 286.5,-68 280.5,-68 274.5,-62 274.5,-56 274.5,-56 274.5,-12 274.5,-12 274.5,-6 280.5,-0 286.5,-0 286.5,-0 370.5,-0 370.5,-0 376.5,-0 382.5,-6 382.5,-12 382.5,-12 382.5,-56 382.5,-56 382.5,-62 376.5,-68 370.5,-68\"/>\r\n<text text-anchor=\"middle\" x=\"328.5\" y=\"-52.8\" font-family=\"Helvetica,sans-Serif\" font-size=\"14.00\">entropy = 0.0</text>\r\n<text text-anchor=\"middle\" x=\"328.5\" y=\"-37.8\" font-family=\"Helvetica,sans-Serif\" font-size=\"14.00\">samples = 5</text>\r\n<text text-anchor=\"middle\" x=\"328.5\" y=\"-22.8\" font-family=\"Helvetica,sans-Serif\" font-size=\"14.00\">value = [0, 5]</text>\r\n<text text-anchor=\"middle\" x=\"328.5\" y=\"-7.8\" font-family=\"Helvetica,sans-Serif\" font-size=\"14.00\">class = benign</text>\r\n</g>\r\n<!-- 5&#45;&gt;6 -->\r\n<g id=\"edge6\" class=\"edge\"><title>5&#45;&gt;6</title>\r\n<path fill=\"none\" stroke=\"black\" d=\"M358.627,-103.726C354.908,-95.2439 350.98,-86.2819 347.231,-77.7312\"/>\r\n<polygon fill=\"black\" stroke=\"black\" points=\"350.317,-76.0531 343.097,-68.2996 343.906,-78.8635 350.317,-76.0531\"/>\r\n</g>\r\n<!-- 7 -->\r\n<g id=\"node8\" class=\"node\"><title>7</title>\r\n<path fill=\"#e88e4d\" stroke=\"black\" d=\"M514,-68C514,-68 413,-68 413,-68 407,-68 401,-62 401,-56 401,-56 401,-12 401,-12 401,-6 407,-0 413,-0 413,-0 514,-0 514,-0 520,-0 526,-6 526,-12 526,-12 526,-56 526,-56 526,-62 520,-68 514,-68\"/>\r\n<text text-anchor=\"middle\" x=\"463.5\" y=\"-52.8\" font-family=\"Helvetica,sans-Serif\" font-size=\"14.00\">entropy = 0.439</text>\r\n<text text-anchor=\"middle\" x=\"463.5\" y=\"-37.8\" font-family=\"Helvetica,sans-Serif\" font-size=\"14.00\">samples = 11</text>\r\n<text text-anchor=\"middle\" x=\"463.5\" y=\"-22.8\" font-family=\"Helvetica,sans-Serif\" font-size=\"14.00\">value = [10, 1]</text>\r\n<text text-anchor=\"middle\" x=\"463.5\" y=\"-7.8\" font-family=\"Helvetica,sans-Serif\" font-size=\"14.00\">class = malignant</text>\r\n</g>\r\n<!-- 5&#45;&gt;7 -->\r\n<g id=\"edge7\" class=\"edge\"><title>5&#45;&gt;7</title>\r\n<path fill=\"none\" stroke=\"black\" d=\"M408.896,-103.726C415.997,-94.7878 423.522,-85.3168 430.642,-76.3558\"/>\r\n<polygon fill=\"black\" stroke=\"black\" points=\"433.562,-78.3065 437.043,-68.2996 428.082,-73.9519 433.562,-78.3065\"/>\r\n</g>\r\n<!-- 9 -->\r\n<g id=\"node10\" class=\"node\"><title>9</title>\r\n<path fill=\"#f1bb94\" stroke=\"black\" d=\"M687,-187C687,-187 518,-187 518,-187 512,-187 506,-181 506,-175 506,-175 506,-116 506,-116 506,-110 512,-104 518,-104 518,-104 687,-104 687,-104 693,-104 699,-110 699,-116 699,-116 699,-175 699,-175 699,-181 693,-187 687,-187\"/>\r\n<text text-anchor=\"middle\" x=\"602.5\" y=\"-171.8\" font-family=\"Helvetica,sans-Serif\" font-size=\"14.00\">worst smoothness &lt;= 0.139</text>\r\n<text text-anchor=\"middle\" x=\"602.5\" y=\"-156.8\" font-family=\"Helvetica,sans-Serif\" font-size=\"14.00\">entropy = 0.897</text>\r\n<text text-anchor=\"middle\" x=\"602.5\" y=\"-141.8\" font-family=\"Helvetica,sans-Serif\" font-size=\"14.00\">samples = 51</text>\r\n<text text-anchor=\"middle\" x=\"602.5\" y=\"-126.8\" font-family=\"Helvetica,sans-Serif\" font-size=\"14.00\">value = [35, 16]</text>\r\n<text text-anchor=\"middle\" x=\"602.5\" y=\"-111.8\" font-family=\"Helvetica,sans-Serif\" font-size=\"14.00\">class = malignant</text>\r\n</g>\r\n<!-- 8&#45;&gt;9 -->\r\n<g id=\"edge9\" class=\"edge\"><title>8&#45;&gt;9</title>\r\n<path fill=\"none\" stroke=\"black\" d=\"M602.5,-222.907C602.5,-214.649 602.5,-205.864 602.5,-197.302\"/>\r\n<polygon fill=\"black\" stroke=\"black\" points=\"606,-197.021 602.5,-187.021 599,-197.021 606,-197.021\"/>\r\n</g>\r\n<!-- 12 -->\r\n<g id=\"node13\" class=\"node\"><title>12</title>\r\n<path fill=\"#e58139\" stroke=\"black\" d=\"M830,-179.5C830,-179.5 729,-179.5 729,-179.5 723,-179.5 717,-173.5 717,-167.5 717,-167.5 717,-123.5 717,-123.5 717,-117.5 723,-111.5 729,-111.5 729,-111.5 830,-111.5 830,-111.5 836,-111.5 842,-117.5 842,-123.5 842,-123.5 842,-167.5 842,-167.5 842,-173.5 836,-179.5 830,-179.5\"/>\r\n<text text-anchor=\"middle\" x=\"779.5\" y=\"-164.3\" font-family=\"Helvetica,sans-Serif\" font-size=\"14.00\">entropy = 0.0</text>\r\n<text text-anchor=\"middle\" x=\"779.5\" y=\"-149.3\" font-family=\"Helvetica,sans-Serif\" font-size=\"14.00\">samples = 124</text>\r\n<text text-anchor=\"middle\" x=\"779.5\" y=\"-134.3\" font-family=\"Helvetica,sans-Serif\" font-size=\"14.00\">value = [124, 0]</text>\r\n<text text-anchor=\"middle\" x=\"779.5\" y=\"-119.3\" font-family=\"Helvetica,sans-Serif\" font-size=\"14.00\">class = malignant</text>\r\n</g>\r\n<!-- 8&#45;&gt;12 -->\r\n<g id=\"edge12\" class=\"edge\"><title>8&#45;&gt;12</title>\r\n<path fill=\"none\" stroke=\"black\" d=\"M663.909,-222.907C682.272,-210.769 702.356,-197.493 720.557,-185.462\"/>\r\n<polygon fill=\"black\" stroke=\"black\" points=\"722.912,-188.101 729.324,-179.667 719.052,-182.262 722.912,-188.101\"/>\r\n</g>\r\n<!-- 10 -->\r\n<g id=\"node11\" class=\"node\"><title>10</title>\r\n<path fill=\"#9ccef2\" stroke=\"black\" d=\"M648.5,-68C648.5,-68 556.5,-68 556.5,-68 550.5,-68 544.5,-62 544.5,-56 544.5,-56 544.5,-12 544.5,-12 544.5,-6 550.5,-0 556.5,-0 556.5,-0 648.5,-0 648.5,-0 654.5,-0 660.5,-6 660.5,-12 660.5,-12 660.5,-56 660.5,-56 660.5,-62 654.5,-68 648.5,-68\"/>\r\n<text text-anchor=\"middle\" x=\"602.5\" y=\"-52.8\" font-family=\"Helvetica,sans-Serif\" font-size=\"14.00\">entropy = 0.918</text>\r\n<text text-anchor=\"middle\" x=\"602.5\" y=\"-37.8\" font-family=\"Helvetica,sans-Serif\" font-size=\"14.00\">samples = 24</text>\r\n<text text-anchor=\"middle\" x=\"602.5\" y=\"-22.8\" font-family=\"Helvetica,sans-Serif\" font-size=\"14.00\">value = [8, 16]</text>\r\n<text text-anchor=\"middle\" x=\"602.5\" y=\"-7.8\" font-family=\"Helvetica,sans-Serif\" font-size=\"14.00\">class = benign</text>\r\n</g>\r\n<!-- 9&#45;&gt;10 -->\r\n<g id=\"edge10\" class=\"edge\"><title>9&#45;&gt;10</title>\r\n<path fill=\"none\" stroke=\"black\" d=\"M602.5,-103.726C602.5,-95.5175 602.5,-86.8595 602.5,-78.56\"/>\r\n<polygon fill=\"black\" stroke=\"black\" points=\"606,-78.2996 602.5,-68.2996 599,-78.2996 606,-78.2996\"/>\r\n</g>\r\n<!-- 11 -->\r\n<g id=\"node12\" class=\"node\"><title>11</title>\r\n<path fill=\"#e58139\" stroke=\"black\" d=\"M792,-68C792,-68 691,-68 691,-68 685,-68 679,-62 679,-56 679,-56 679,-12 679,-12 679,-6 685,-0 691,-0 691,-0 792,-0 792,-0 798,-0 804,-6 804,-12 804,-12 804,-56 804,-56 804,-62 798,-68 792,-68\"/>\r\n<text text-anchor=\"middle\" x=\"741.5\" y=\"-52.8\" font-family=\"Helvetica,sans-Serif\" font-size=\"14.00\">entropy = 0.0</text>\r\n<text text-anchor=\"middle\" x=\"741.5\" y=\"-37.8\" font-family=\"Helvetica,sans-Serif\" font-size=\"14.00\">samples = 27</text>\r\n<text text-anchor=\"middle\" x=\"741.5\" y=\"-22.8\" font-family=\"Helvetica,sans-Serif\" font-size=\"14.00\">value = [27, 0]</text>\r\n<text text-anchor=\"middle\" x=\"741.5\" y=\"-7.8\" font-family=\"Helvetica,sans-Serif\" font-size=\"14.00\">class = malignant</text>\r\n</g>\r\n<!-- 9&#45;&gt;11 -->\r\n<g id=\"edge11\" class=\"edge\"><title>9&#45;&gt;11</title>\r\n<path fill=\"none\" stroke=\"black\" d=\"M654.258,-103.726C666.3,-94.2406 679.102,-84.1551 691.084,-74.7159\"/>\r\n<polygon fill=\"black\" stroke=\"black\" points=\"693.54,-77.2372 699.229,-68.2996 689.208,-71.7385 693.54,-77.2372\"/>\r\n</g>\r\n</g>\r\n</svg>\r\n",
      "text/plain": [
       "<graphviz.files.Source at 0x2b7015b0af0>"
      ]
     },
     "execution_count": 133,
     "metadata": {},
     "output_type": "execute_result"
    }
   ],
   "source": [
    "#Insérez votre code ici\n",
    "export_graphviz(tree2, out_file=os.path.join(\"breast_tree2.dot\"), feature_names=Nom,\n",
    "class_names=Target, rounded=True, filled=True)\n",
    "Source.from_file(os.path.join(\"breast_tree2.dot\"))"
   ]
  },
  {
   "cell_type": "markdown",
   "metadata": {
    "deletable": false,
    "editable": false
   },
   "source": [
    "\n",
    "<div class=\"alert alert-block alert-info\" style='color:MidnightBlue; background-color: AliceBlue ; border-radius: 30px; border-color: black; '>\n",
    "    1.14\tExpliquer les différents paramètres affichés pour un nœud et expliquer le calcul de chaque paramètre.\n",
    "    </div>"
   ]
  },
  {
   "cell_type": "code",
   "execution_count": 134,
   "metadata": {},
   "outputs": [],
   "source": [
    "#Insérez votre code ici"
   ]
  },
  {
   "cell_type": "markdown",
   "metadata": {
    "deletable": false,
    "editable": false
   },
   "source": [
    "\n",
    "<div class=\"alert alert-block alert-info\" style='color:MidnightBlue; background-color: AliceBlue ; border-radius: 30px; border-color: black; '>\n",
    "    1.15\tRéalisez la prédiction sur les données de test.\n",
    "    </div>"
   ]
  },
  {
   "cell_type": "code",
   "execution_count": 135,
   "metadata": {},
   "outputs": [],
   "source": [
    "#Insérez votre code ici\n",
    "y_pred2 =tree2.predict(X_test)"
   ]
  },
  {
   "cell_type": "markdown",
   "metadata": {
    "deletable": false,
    "editable": false
   },
   "source": [
    "<div class=\"alert alert-block alert-info\" style='color:MidnightBlue; background-color: AliceBlue ; border-radius: 30px; border-color: black; '>\n",
    "    1.16\tAffichez la matrice de confusion obtenue sur les données de test (sans utiliser la validation croisée). Expliquer le résultat obtenu.\n",
    "    </div>"
   ]
  },
  {
   "cell_type": "code",
   "execution_count": 136,
   "metadata": {},
   "outputs": [
    {
     "name": "stdout",
     "output_type": "stream",
     "text": [
      "[[ 37   2]\n",
      " [  7 125]]\n"
     ]
    }
   ],
   "source": [
    "#Insérez votre code ici\n",
    "results2 = confusion_matrix(y_test,y_pred2)\n",
    "print (results2)"
   ]
  },
  {
   "cell_type": "markdown",
   "metadata": {
    "deletable": false,
    "editable": false
   },
   "source": [
    "\n",
    "<div class=\"alert alert-block alert-info\" style='color:MidnightBlue; background-color: AliceBlue ; border-radius: 30px; border-color: black; '>\n",
    "1.17\tAfficher les métriques de classification suivantes : précision, rappel et F1. \n",
    "    </div>"
   ]
  },
  {
   "cell_type": "code",
   "execution_count": 137,
   "metadata": {},
   "outputs": [
    {
     "name": "stdout",
     "output_type": "stream",
     "text": [
      "precision : 0.984251968503937\n",
      "recall : 0.946969696969697\n",
      "F1 score : 0.9652509652509653\n"
     ]
    }
   ],
   "source": [
    "#Insérez votre code ici\n",
    "print (\"precision :\",precision_score(y_test,y_pred2))\n",
    "print (\"recall :\",recall_score(y_test,y_pred2))\n",
    "print (\"F1 score :\",f1_score(y_test,y_pred2))"
   ]
  },
  {
   "cell_type": "markdown",
   "metadata": {
    "deletable": false,
    "editable": false
   },
   "source": [
    "\n",
    "<div class=\"alert alert-block alert-info\" style='color:MidnightBlue; background-color: AliceBlue ; border-radius: 30px; border-color: black; '>\n",
    "    1.18\tConstruisez un autre arbre de décision que vous appellerez tree3 et entrainez-le sur les données de la base d’entrainement en prenant comme paramètres : criterion=\"entropy\" et min_samples_leaf = 20.  A quoi correspond ce dernier paramètre ?\n",
    "    </div>"
   ]
  },
  {
   "cell_type": "code",
   "execution_count": 138,
   "metadata": {},
   "outputs": [
    {
     "data": {
      "text/plain": [
       "DecisionTreeClassifier(criterion='entropy', min_samples_leaf=20)"
      ]
     },
     "execution_count": 138,
     "metadata": {},
     "output_type": "execute_result"
    }
   ],
   "source": [
    "#Insérez votre code ici\n",
    "tree3 = DecisionTreeClassifier(criterion=\"entropy\",min_samples_leaf=20)\n",
    "tree3.fit(X_train,y_train)\n"
   ]
  },
  {
   "cell_type": "markdown",
   "metadata": {
    "deletable": false,
    "editable": false
   },
   "source": [
    "\n",
    "<div class=\"alert alert-block alert-info\" style='color:MidnightBlue; background-color: AliceBlue ; border-radius: 30px; border-color: black; '>\n",
    "    1.19\tRéalisez la prédiction sur les données de test.\n",
    "    </div>"
   ]
  },
  {
   "cell_type": "code",
   "execution_count": 139,
   "metadata": {},
   "outputs": [],
   "source": [
    "#Insérez votre code ici\n",
    "y_pred3 =tree3.predict(X_test)"
   ]
  },
  {
   "cell_type": "markdown",
   "metadata": {
    "deletable": false,
    "editable": false
   },
   "source": [
    "\n",
    "<div class=\"alert alert-block alert-info\" style='color:MidnightBlue; background-color: AliceBlue ; border-radius: 30px; border-color: black; '>\n",
    "    1.20\tAffichez la matrice de confusion obtenue sur les données de test (sans utiliser la validation croisée). Expliquer le résultat obtenu.\n",
    "    </div>"
   ]
  },
  {
   "cell_type": "code",
   "execution_count": 140,
   "metadata": {},
   "outputs": [
    {
     "name": "stdout",
     "output_type": "stream",
     "text": [
      "[[ 37   2]\n",
      " [  7 125]]\n"
     ]
    }
   ],
   "source": [
    "#Insérez votre code ici\n",
    "results3 = confusion_matrix(y_test,y_pred2)\n",
    "print (results3)"
   ]
  },
  {
   "cell_type": "markdown",
   "metadata": {
    "deletable": false,
    "editable": false
   },
   "source": [
    "<div class=\"alert alert-block alert-info\" style='color:MidnightBlue; background-color: AliceBlue ; border-radius: 30px; border-color: black; '>\n",
    "1.21\tAfficher les métriques de classification suivantes : précision, rappel et F1. \n",
    "    </div>"
   ]
  },
  {
   "cell_type": "code",
   "execution_count": 141,
   "metadata": {},
   "outputs": [
    {
     "name": "stdout",
     "output_type": "stream",
     "text": [
      "0.983739837398374\n",
      "0.9166666666666666\n",
      "0.9490196078431372\n"
     ]
    }
   ],
   "source": [
    "#Insérez votre code ici\n",
    "print (precision_score(y_test,y_pred3))\n",
    "print (recall_score(y_test,y_pred3))\n",
    "print (f1_score(y_test,y_pred3))"
   ]
  },
  {
   "cell_type": "markdown",
   "metadata": {
    "deletable": false,
    "editable": false
   },
   "source": [
    "<div class=\"alert alert-block alert-info\" style='color:MidnightBlue; background-color: AliceBlue ; border-radius: 30px; border-color: black; '>\n",
    "1.22\tComparer les résultats de tree1, tree2 et tree3. Conclure\n",
    "    </div>\n"
   ]
  },
  {
   "cell_type": "code",
   "execution_count": 142,
   "metadata": {
    "id": "uy45s6ADMUri"
   },
   "outputs": [],
   "source": [
    "#Insérez votre code ici"
   ]
  },
  {
   "cell_type": "markdown",
   "metadata": {},
   "source": [
    "<div class=\"alert alert-block alert-info\" style='color:MidnightBlue; background-color: AliceBlue ; border-radius: 30px; border-color: black; '>\n",
    "    <hr><h2>Partie 2</h2><hr>    \n",
    "    \n",
    "Nous allons à présent utiliser la base de données diabetes de scikit learn. Cette base de données va nous permettre de prédire la progression du diabète (qui est la variable à prédire) un an après à partir de 10 caractéristiques des personnes (l'âge, le sexe, l'indice de masse corporelle, la pression artérielle moyenne et six mesures de sérum sanguin). Ces caractéristiques représentent les différentes observations.\n",
    " <br>       \n",
    "2.1\tChargez la base de données Diabetes du module sklearn.datasets via l’instruction load_diabetes.\n",
    "\n",
    "\n",
    "</div>"
   ]
  },
  {
   "cell_type": "code",
   "execution_count": 143,
   "metadata": {},
   "outputs": [],
   "source": [
    "#Insérez votre code ici\n",
    "from sklearn.datasets import load_diabetes\n",
    "dataDiabetes = load_diabetes()\n",
    "X1 = dataDiabetes.data\n",
    "y1 = dataDiabetes.target"
   ]
  },
  {
   "cell_type": "markdown",
   "metadata": {
    "deletable": false,
    "id": "scHtQDeMqBBf"
   },
   "source": [
    "<div class=\"alert alert-block alert-info\" style='color:MidnightBlue; background-color: AliceBlue ; border-radius: 30px; border-color: black; '>\n",
    "2.2\tFaire une partition aléatoire en partie apprentissage et partie test (70% apprentissage, 30% test) en utilisant l’instruction model_selection.train_test_split.\n",
    "\n",
    "\n",
    "</div>"
   ]
  },
  {
   "cell_type": "code",
   "execution_count": 144,
   "metadata": {
    "id": "aeThyuaSiKsV"
   },
   "outputs": [],
   "source": [
    "#Entrer votre réponse ici\n",
    "X_train1,X_test1,y_train1,y_test1 = train_test_split (X1,y1,test_size = 0.3, shuffle = True, random_state = 42)\n"
   ]
  },
  {
   "cell_type": "markdown",
   "metadata": {},
   "source": [
    "<div class=\"alert alert-block alert-info\" style='color:MidnightBlue; background-color: AliceBlue ; border-radius: 30px; border-color: black; '>\n",
    "2.3\tConstruire un modèle d’arbre de régression de profondeur 3 pour cette base.\n",
    "    </div>"
   ]
  },
  {
   "cell_type": "code",
   "execution_count": 145,
   "metadata": {
    "id": "8U8nYJGntFiF"
   },
   "outputs": [],
   "source": [
    "#insérez votre code ici\n",
    "from sklearn.tree import DecisionTreeRegressor\n",
    "tree_reg =DecisionTreeRegressor(max_depth=3)\n"
   ]
  },
  {
   "cell_type": "markdown",
   "metadata": {},
   "source": [
    "<div class=\"alert alert-block alert-info\" style='color:MidnightBlue; background-color: AliceBlue ; border-radius: 30px; border-color: black; '>\n",
    "2.4\tEntrainer le modèle construit sur la base d’apprentissage.\n",
    "    </div>\n"
   ]
  },
  {
   "cell_type": "code",
   "execution_count": 146,
   "metadata": {
    "id": "pJBgz9n7p67U"
   },
   "outputs": [
    {
     "data": {
      "image/svg+xml": "<?xml version=\"1.0\" encoding=\"UTF-8\" standalone=\"no\"?>\r\n<!DOCTYPE svg PUBLIC \"-//W3C//DTD SVG 1.1//EN\"\r\n \"http://www.w3.org/Graphics/SVG/1.1/DTD/svg11.dtd\">\r\n<!-- Generated by graphviz version 2.38.0 (20140413.2041)\r\n -->\r\n<!-- Title: Tree Pages: 1 -->\r\n<svg width=\"1557pt\" height=\"373pt\"\r\n viewBox=\"0.00 0.00 1557.00 373.00\" xmlns=\"http://www.w3.org/2000/svg\" xmlns:xlink=\"http://www.w3.org/1999/xlink\">\r\n<g id=\"graph0\" class=\"graph\" transform=\"scale(1 1) rotate(0) translate(4 369)\">\r\n<title>Tree</title>\r\n<polygon fill=\"white\" stroke=\"none\" points=\"-4,4 -4,-369 1553,-369 1553,4 -4,4\"/>\r\n<!-- 0 -->\r\n<g id=\"node1\" class=\"node\"><title>0</title>\r\n<path fill=\"#f8dcc8\" stroke=\"black\" d=\"M838,-365C838,-365 678,-365 678,-365 672,-365 666,-359 666,-353 666,-353 666,-309 666,-309 666,-303 672,-297 678,-297 678,-297 838,-297 838,-297 844,-297 850,-303 850,-309 850,-309 850,-353 850,-353 850,-359 844,-365 838,-365\"/>\r\n<text text-anchor=\"middle\" x=\"758\" y=\"-349.8\" font-family=\"Helvetica,sans-Serif\" font-size=\"14.00\">bmi &lt;= 0.005</text>\r\n<text text-anchor=\"middle\" x=\"758\" y=\"-334.8\" font-family=\"Helvetica,sans-Serif\" font-size=\"14.00\">squared_error = 6148.282</text>\r\n<text text-anchor=\"middle\" x=\"758\" y=\"-319.8\" font-family=\"Helvetica,sans-Serif\" font-size=\"14.00\">samples = 309</text>\r\n<text text-anchor=\"middle\" x=\"758\" y=\"-304.8\" font-family=\"Helvetica,sans-Serif\" font-size=\"14.00\">value = 153.903</text>\r\n</g>\r\n<!-- 1 -->\r\n<g id=\"node2\" class=\"node\"><title>1</title>\r\n<path fill=\"#fdf3ed\" stroke=\"black\" d=\"M695,-261C695,-261 535,-261 535,-261 529,-261 523,-255 523,-249 523,-249 523,-205 523,-205 523,-199 529,-193 535,-193 535,-193 695,-193 695,-193 701,-193 707,-199 707,-205 707,-205 707,-249 707,-249 707,-255 701,-261 695,-261\"/>\r\n<text text-anchor=\"middle\" x=\"615\" y=\"-245.8\" font-family=\"Helvetica,sans-Serif\" font-size=\"14.00\">s5 &lt;= 0.014</text>\r\n<text text-anchor=\"middle\" x=\"615\" y=\"-230.8\" font-family=\"Helvetica,sans-Serif\" font-size=\"14.00\">squared_error = 3636.316</text>\r\n<text text-anchor=\"middle\" x=\"615\" y=\"-215.8\" font-family=\"Helvetica,sans-Serif\" font-size=\"14.00\">samples = 183</text>\r\n<text text-anchor=\"middle\" x=\"615\" y=\"-200.8\" font-family=\"Helvetica,sans-Serif\" font-size=\"14.00\">value = 118.355</text>\r\n</g>\r\n<!-- 0&#45;&gt;1 -->\r\n<g id=\"edge1\" class=\"edge\"><title>0&#45;&gt;1</title>\r\n<path fill=\"none\" stroke=\"black\" d=\"M711.572,-296.884C698.335,-287.442 683.785,-277.064 670.085,-267.292\"/>\r\n<polygon fill=\"black\" stroke=\"black\" points=\"671.858,-264.257 661.684,-261.299 667.793,-269.956 671.858,-264.257\"/>\r\n<text text-anchor=\"middle\" x=\"665.811\" y=\"-282.256\" font-family=\"Helvetica,sans-Serif\" font-size=\"14.00\">True</text>\r\n</g>\r\n<!-- 8 -->\r\n<g id=\"node9\" class=\"node\"><title>8</title>\r\n<path fill=\"#f1ba93\" stroke=\"black\" d=\"M981,-261C981,-261 821,-261 821,-261 815,-261 809,-255 809,-249 809,-249 809,-205 809,-205 809,-199 815,-193 821,-193 821,-193 981,-193 981,-193 987,-193 993,-199 993,-205 993,-205 993,-249 993,-249 993,-255 987,-261 981,-261\"/>\r\n<text text-anchor=\"middle\" x=\"901\" y=\"-245.8\" font-family=\"Helvetica,sans-Serif\" font-size=\"14.00\">bmi &lt;= 0.073</text>\r\n<text text-anchor=\"middle\" x=\"901\" y=\"-230.8\" font-family=\"Helvetica,sans-Serif\" font-size=\"14.00\">squared_error = 5295.789</text>\r\n<text text-anchor=\"middle\" x=\"901\" y=\"-215.8\" font-family=\"Helvetica,sans-Serif\" font-size=\"14.00\">samples = 126</text>\r\n<text text-anchor=\"middle\" x=\"901\" y=\"-200.8\" font-family=\"Helvetica,sans-Serif\" font-size=\"14.00\">value = 205.532</text>\r\n</g>\r\n<!-- 0&#45;&gt;8 -->\r\n<g id=\"edge8\" class=\"edge\"><title>0&#45;&gt;8</title>\r\n<path fill=\"none\" stroke=\"black\" d=\"M804.428,-296.884C817.665,-287.442 832.215,-277.064 845.915,-267.292\"/>\r\n<polygon fill=\"black\" stroke=\"black\" points=\"848.207,-269.956 854.316,-261.299 844.142,-264.257 848.207,-269.956\"/>\r\n<text text-anchor=\"middle\" x=\"850.189\" y=\"-282.256\" font-family=\"Helvetica,sans-Serif\" font-size=\"14.00\">False</text>\r\n</g>\r\n<!-- 2 -->\r\n<g id=\"node3\" class=\"node\"><title>2</title>\r\n<path fill=\"#fffefd\" stroke=\"black\" d=\"M366,-157C366,-157 206,-157 206,-157 200,-157 194,-151 194,-145 194,-145 194,-101 194,-101 194,-95 200,-89 206,-89 206,-89 366,-89 366,-89 372,-89 378,-95 378,-101 378,-101 378,-145 378,-145 378,-151 372,-157 366,-157\"/>\r\n<text text-anchor=\"middle\" x=\"286\" y=\"-141.8\" font-family=\"Helvetica,sans-Serif\" font-size=\"14.00\">s2 &lt;= 0.091</text>\r\n<text text-anchor=\"middle\" x=\"286\" y=\"-126.8\" font-family=\"Helvetica,sans-Serif\" font-size=\"14.00\">squared_error = 2641.993</text>\r\n<text text-anchor=\"middle\" x=\"286\" y=\"-111.8\" font-family=\"Helvetica,sans-Serif\" font-size=\"14.00\">samples = 138</text>\r\n<text text-anchor=\"middle\" x=\"286\" y=\"-96.8\" font-family=\"Helvetica,sans-Serif\" font-size=\"14.00\">value = 102.855</text>\r\n</g>\r\n<!-- 1&#45;&gt;2 -->\r\n<g id=\"edge2\" class=\"edge\"><title>1&#45;&gt;2</title>\r\n<path fill=\"none\" stroke=\"black\" d=\"M522.918,-197.452C480.856,-184.411 430.901,-168.924 387.732,-155.54\"/>\r\n<polygon fill=\"black\" stroke=\"black\" points=\"388.648,-152.16 378.06,-152.541 386.575,-158.846 388.648,-152.16\"/>\r\n</g>\r\n<!-- 5 -->\r\n<g id=\"node6\" class=\"node\"><title>5</title>\r\n<path fill=\"#f6d4bc\" stroke=\"black\" d=\"M695,-157C695,-157 535,-157 535,-157 529,-157 523,-151 523,-145 523,-145 523,-101 523,-101 523,-95 529,-89 535,-89 535,-89 695,-89 695,-89 701,-89 707,-95 707,-101 707,-101 707,-145 707,-145 707,-151 701,-157 695,-157\"/>\r\n<text text-anchor=\"middle\" x=\"615\" y=\"-141.8\" font-family=\"Helvetica,sans-Serif\" font-size=\"14.00\">bp &lt;= &#45;0.032</text>\r\n<text text-anchor=\"middle\" x=\"615\" y=\"-126.8\" font-family=\"Helvetica,sans-Serif\" font-size=\"14.00\">squared_error = 3689.343</text>\r\n<text text-anchor=\"middle\" x=\"615\" y=\"-111.8\" font-family=\"Helvetica,sans-Serif\" font-size=\"14.00\">samples = 45</text>\r\n<text text-anchor=\"middle\" x=\"615\" y=\"-96.8\" font-family=\"Helvetica,sans-Serif\" font-size=\"14.00\">value = 165.889</text>\r\n</g>\r\n<!-- 1&#45;&gt;5 -->\r\n<g id=\"edge5\" class=\"edge\"><title>1&#45;&gt;5</title>\r\n<path fill=\"none\" stroke=\"black\" d=\"M615,-192.884C615,-184.778 615,-175.982 615,-167.472\"/>\r\n<polygon fill=\"black\" stroke=\"black\" points=\"618.5,-167.299 615,-157.299 611.5,-167.299 618.5,-167.299\"/>\r\n</g>\r\n<!-- 3 -->\r\n<g id=\"node4\" class=\"node\"><title>3</title>\r\n<path fill=\"#ffffff\" stroke=\"black\" d=\"M172,-53C172,-53 12,-53 12,-53 6,-53 0,-47 0,-41 0,-41 0,-12 0,-12 0,-6 6,-0 12,-0 12,-0 172,-0 172,-0 178,-0 184,-6 184,-12 184,-12 184,-41 184,-41 184,-47 178,-53 172,-53\"/>\r\n<text text-anchor=\"middle\" x=\"92\" y=\"-37.8\" font-family=\"Helvetica,sans-Serif\" font-size=\"14.00\">squared_error = 2392.062</text>\r\n<text text-anchor=\"middle\" x=\"92\" y=\"-22.8\" font-family=\"Helvetica,sans-Serif\" font-size=\"14.00\">samples = 136</text>\r\n<text text-anchor=\"middle\" x=\"92\" y=\"-7.8\" font-family=\"Helvetica,sans-Serif\" font-size=\"14.00\">value = 100.816</text>\r\n</g>\r\n<!-- 2&#45;&gt;3 -->\r\n<g id=\"edge3\" class=\"edge\"><title>2&#45;&gt;3</title>\r\n<path fill=\"none\" stroke=\"black\" d=\"M218.148,-88.9485C197.208,-78.748 174.269,-67.5744 153.762,-57.5852\"/>\r\n<polygon fill=\"black\" stroke=\"black\" points=\"155.05,-54.3194 144.527,-53.0867 151.985,-60.6125 155.05,-54.3194\"/>\r\n</g>\r\n<!-- 4 -->\r\n<g id=\"node5\" class=\"node\"><title>4</title>\r\n<path fill=\"#eca36e\" stroke=\"black\" d=\"M357.5,-53C357.5,-53 214.5,-53 214.5,-53 208.5,-53 202.5,-47 202.5,-41 202.5,-41 202.5,-12 202.5,-12 202.5,-6 208.5,-0 214.5,-0 214.5,-0 357.5,-0 357.5,-0 363.5,-0 369.5,-6 369.5,-12 369.5,-12 369.5,-41 369.5,-41 369.5,-47 363.5,-53 357.5,-53\"/>\r\n<text text-anchor=\"middle\" x=\"286\" y=\"-37.8\" font-family=\"Helvetica,sans-Serif\" font-size=\"14.00\">squared_error = 132.25</text>\r\n<text text-anchor=\"middle\" x=\"286\" y=\"-22.8\" font-family=\"Helvetica,sans-Serif\" font-size=\"14.00\">samples = 2</text>\r\n<text text-anchor=\"middle\" x=\"286\" y=\"-7.8\" font-family=\"Helvetica,sans-Serif\" font-size=\"14.00\">value = 241.5</text>\r\n</g>\r\n<!-- 2&#45;&gt;4 -->\r\n<g id=\"edge4\" class=\"edge\"><title>2&#45;&gt;4</title>\r\n<path fill=\"none\" stroke=\"black\" d=\"M286,-88.9485C286,-80.7153 286,-71.848 286,-63.4814\"/>\r\n<polygon fill=\"black\" stroke=\"black\" points=\"289.5,-63.2367 286,-53.2367 282.5,-63.2367 289.5,-63.2367\"/>\r\n</g>\r\n<!-- 6 -->\r\n<g id=\"node7\" class=\"node\"><title>6</title>\r\n<path fill=\"#fdf6f1\" stroke=\"black\" d=\"M534.5,-53C534.5,-53 399.5,-53 399.5,-53 393.5,-53 387.5,-47 387.5,-41 387.5,-41 387.5,-12 387.5,-12 387.5,-6 393.5,-0 399.5,-0 399.5,-0 534.5,-0 534.5,-0 540.5,-0 546.5,-6 546.5,-12 546.5,-12 546.5,-41 546.5,-41 546.5,-47 540.5,-53 534.5,-53\"/>\r\n<text text-anchor=\"middle\" x=\"467\" y=\"-37.8\" font-family=\"Helvetica,sans-Serif\" font-size=\"14.00\">squared_error = 326.4</text>\r\n<text text-anchor=\"middle\" x=\"467\" y=\"-22.8\" font-family=\"Helvetica,sans-Serif\" font-size=\"14.00\">samples = 10</text>\r\n<text text-anchor=\"middle\" x=\"467\" y=\"-7.8\" font-family=\"Helvetica,sans-Serif\" font-size=\"14.00\">value = 114.0</text>\r\n</g>\r\n<!-- 5&#45;&gt;6 -->\r\n<g id=\"edge6\" class=\"edge\"><title>5&#45;&gt;6</title>\r\n<path fill=\"none\" stroke=\"black\" d=\"M563.237,-88.9485C547.907,-79.1601 531.173,-68.4756 516.022,-58.8015\"/>\r\n<polygon fill=\"black\" stroke=\"black\" points=\"517.619,-55.6685 507.307,-53.2367 513.852,-61.5683 517.619,-55.6685\"/>\r\n</g>\r\n<!-- 7 -->\r\n<g id=\"node8\" class=\"node\"><title>7</title>\r\n<path fill=\"#f4caac\" stroke=\"black\" d=\"M737,-53C737,-53 577,-53 577,-53 571,-53 565,-47 565,-41 565,-41 565,-12 565,-12 565,-6 571,-0 577,-0 577,-0 737,-0 737,-0 743,-0 749,-6 749,-12 749,-12 749,-41 749,-41 749,-47 743,-53 737,-53\"/>\r\n<text text-anchor=\"middle\" x=\"657\" y=\"-37.8\" font-family=\"Helvetica,sans-Serif\" font-size=\"14.00\">squared_error = 3661.118</text>\r\n<text text-anchor=\"middle\" x=\"657\" y=\"-22.8\" font-family=\"Helvetica,sans-Serif\" font-size=\"14.00\">samples = 35</text>\r\n<text text-anchor=\"middle\" x=\"657\" y=\"-7.8\" font-family=\"Helvetica,sans-Serif\" font-size=\"14.00\">value = 180.714</text>\r\n</g>\r\n<!-- 5&#45;&gt;7 -->\r\n<g id=\"edge7\" class=\"edge\"><title>5&#45;&gt;7</title>\r\n<path fill=\"none\" stroke=\"black\" d=\"M629.69,-88.9485C633.471,-80.4408 637.553,-71.2562 641.379,-62.6464\"/>\r\n<polygon fill=\"black\" stroke=\"black\" points=\"644.698,-63.7963 645.561,-53.2367 638.302,-60.9533 644.698,-63.7963\"/>\r\n</g>\r\n<!-- 9 -->\r\n<g id=\"node10\" class=\"node\"><title>9</title>\r\n<path fill=\"#f3c5a4\" stroke=\"black\" d=\"M981,-157C981,-157 821,-157 821,-157 815,-157 809,-151 809,-145 809,-145 809,-101 809,-101 809,-95 815,-89 821,-89 821,-89 981,-89 981,-89 987,-89 993,-95 993,-101 993,-101 993,-145 993,-145 993,-151 987,-157 981,-157\"/>\r\n<text text-anchor=\"middle\" x=\"901\" y=\"-141.8\" font-family=\"Helvetica,sans-Serif\" font-size=\"14.00\">bp &lt;= 0.003</text>\r\n<text text-anchor=\"middle\" x=\"901\" y=\"-126.8\" font-family=\"Helvetica,sans-Serif\" font-size=\"14.00\">squared_error = 4653.159</text>\r\n<text text-anchor=\"middle\" x=\"901\" y=\"-111.8\" font-family=\"Helvetica,sans-Serif\" font-size=\"14.00\">samples = 101</text>\r\n<text text-anchor=\"middle\" x=\"901\" y=\"-96.8\" font-family=\"Helvetica,sans-Serif\" font-size=\"14.00\">value = 189.297</text>\r\n</g>\r\n<!-- 8&#45;&gt;9 -->\r\n<g id=\"edge9\" class=\"edge\"><title>8&#45;&gt;9</title>\r\n<path fill=\"none\" stroke=\"black\" d=\"M901,-192.884C901,-184.778 901,-175.982 901,-167.472\"/>\r\n<polygon fill=\"black\" stroke=\"black\" points=\"904.5,-167.299 901,-157.299 897.5,-167.299 904.5,-167.299\"/>\r\n</g>\r\n<!-- 12 -->\r\n<g id=\"node13\" class=\"node\"><title>12</title>\r\n<path fill=\"#e88f4f\" stroke=\"black\" d=\"M1339,-157C1339,-157 1179,-157 1179,-157 1173,-157 1167,-151 1167,-145 1167,-145 1167,-101 1167,-101 1167,-95 1173,-89 1179,-89 1179,-89 1339,-89 1339,-89 1345,-89 1351,-95 1351,-101 1351,-101 1351,-145 1351,-145 1351,-151 1345,-157 1339,-157\"/>\r\n<text text-anchor=\"middle\" x=\"1259\" y=\"-141.8\" font-family=\"Helvetica,sans-Serif\" font-size=\"14.00\">s2 &lt;= 0.022</text>\r\n<text text-anchor=\"middle\" x=\"1259\" y=\"-126.8\" font-family=\"Helvetica,sans-Serif\" font-size=\"14.00\">squared_error = 2525.386</text>\r\n<text text-anchor=\"middle\" x=\"1259\" y=\"-111.8\" font-family=\"Helvetica,sans-Serif\" font-size=\"14.00\">samples = 25</text>\r\n<text text-anchor=\"middle\" x=\"1259\" y=\"-96.8\" font-family=\"Helvetica,sans-Serif\" font-size=\"14.00\">value = 271.12</text>\r\n</g>\r\n<!-- 8&#45;&gt;12 -->\r\n<g id=\"edge12\" class=\"edge\"><title>8&#45;&gt;12</title>\r\n<path fill=\"none\" stroke=\"black\" d=\"M993.194,-199.732C1043.31,-185.453 1105.41,-167.761 1156.97,-153.069\"/>\r\n<polygon fill=\"black\" stroke=\"black\" points=\"1158.15,-156.373 1166.81,-150.267 1156.23,-149.641 1158.15,-156.373\"/>\r\n</g>\r\n<!-- 10 -->\r\n<g id=\"node11\" class=\"node\"><title>10</title>\r\n<path fill=\"#f7d8c2\" stroke=\"black\" d=\"M939,-53C939,-53 779,-53 779,-53 773,-53 767,-47 767,-41 767,-41 767,-12 767,-12 767,-6 773,-0 779,-0 779,-0 939,-0 939,-0 945,-0 951,-6 951,-12 951,-12 951,-41 951,-41 951,-47 945,-53 939,-53\"/>\r\n<text text-anchor=\"middle\" x=\"859\" y=\"-37.8\" font-family=\"Helvetica,sans-Serif\" font-size=\"14.00\">squared_error = 4517.161</text>\r\n<text text-anchor=\"middle\" x=\"859\" y=\"-22.8\" font-family=\"Helvetica,sans-Serif\" font-size=\"14.00\">samples = 43</text>\r\n<text text-anchor=\"middle\" x=\"859\" y=\"-7.8\" font-family=\"Helvetica,sans-Serif\" font-size=\"14.00\">value = 160.047</text>\r\n</g>\r\n<!-- 9&#45;&gt;10 -->\r\n<g id=\"edge10\" class=\"edge\"><title>9&#45;&gt;10</title>\r\n<path fill=\"none\" stroke=\"black\" d=\"M886.31,-88.9485C882.529,-80.4408 878.447,-71.2562 874.621,-62.6464\"/>\r\n<polygon fill=\"black\" stroke=\"black\" points=\"877.698,-60.9533 870.439,-53.2367 871.302,-63.7963 877.698,-60.9533\"/>\r\n</g>\r\n<!-- 11 -->\r\n<g id=\"node12\" class=\"node\"><title>11</title>\r\n<path fill=\"#f0b78d\" stroke=\"black\" d=\"M1141,-53C1141,-53 981,-53 981,-53 975,-53 969,-47 969,-41 969,-41 969,-12 969,-12 969,-6 975,-0 981,-0 981,-0 1141,-0 1141,-0 1147,-0 1153,-6 1153,-12 1153,-12 1153,-41 1153,-41 1153,-47 1147,-53 1141,-53\"/>\r\n<text text-anchor=\"middle\" x=\"1061\" y=\"-37.8\" font-family=\"Helvetica,sans-Serif\" font-size=\"14.00\">squared_error = 3649.396</text>\r\n<text text-anchor=\"middle\" x=\"1061\" y=\"-22.8\" font-family=\"Helvetica,sans-Serif\" font-size=\"14.00\">samples = 58</text>\r\n<text text-anchor=\"middle\" x=\"1061\" y=\"-7.8\" font-family=\"Helvetica,sans-Serif\" font-size=\"14.00\">value = 210.983</text>\r\n</g>\r\n<!-- 9&#45;&gt;11 -->\r\n<g id=\"edge11\" class=\"edge\"><title>9&#45;&gt;11</title>\r\n<path fill=\"none\" stroke=\"black\" d=\"M956.96,-88.9485C973.764,-79.0237 992.128,-68.1776 1008.69,-58.3977\"/>\r\n<polygon fill=\"black\" stroke=\"black\" points=\"1010.85,-61.1858 1017.68,-53.0867 1007.29,-55.1586 1010.85,-61.1858\"/>\r\n</g>\r\n<!-- 13 -->\r\n<g id=\"node14\" class=\"node\"><title>13</title>\r\n<path fill=\"#e58139\" stroke=\"black\" d=\"M1335,-53C1335,-53 1183,-53 1183,-53 1177,-53 1171,-47 1171,-41 1171,-41 1171,-12 1171,-12 1171,-6 1177,-0 1183,-0 1183,-0 1335,-0 1335,-0 1341,-0 1347,-6 1347,-12 1347,-12 1347,-41 1347,-41 1347,-47 1341,-53 1335,-53\"/>\r\n<text text-anchor=\"middle\" x=\"1259\" y=\"-37.8\" font-family=\"Helvetica,sans-Serif\" font-size=\"14.00\">squared_error = 991.426</text>\r\n<text text-anchor=\"middle\" x=\"1259\" y=\"-22.8\" font-family=\"Helvetica,sans-Serif\" font-size=\"14.00\">samples = 17</text>\r\n<text text-anchor=\"middle\" x=\"1259\" y=\"-7.8\" font-family=\"Helvetica,sans-Serif\" font-size=\"14.00\">value = 292.471</text>\r\n</g>\r\n<!-- 12&#45;&gt;13 -->\r\n<g id=\"edge13\" class=\"edge\"><title>12&#45;&gt;13</title>\r\n<path fill=\"none\" stroke=\"black\" d=\"M1259,-88.9485C1259,-80.7153 1259,-71.848 1259,-63.4814\"/>\r\n<polygon fill=\"black\" stroke=\"black\" points=\"1262.5,-63.2367 1259,-53.2367 1255.5,-63.2367 1262.5,-63.2367\"/>\r\n</g>\r\n<!-- 14 -->\r\n<g id=\"node15\" class=\"node\"><title>14</title>\r\n<path fill=\"#eead7e\" stroke=\"black\" d=\"M1537,-53C1537,-53 1377,-53 1377,-53 1371,-53 1365,-47 1365,-41 1365,-41 1365,-12 1365,-12 1365,-6 1371,-0 1377,-0 1377,-0 1537,-0 1537,-0 1543,-0 1549,-6 1549,-12 1549,-12 1549,-41 1549,-41 1549,-47 1543,-53 1537,-53\"/>\r\n<text text-anchor=\"middle\" x=\"1457\" y=\"-37.8\" font-family=\"Helvetica,sans-Serif\" font-size=\"14.00\">squared_error = 2757.938</text>\r\n<text text-anchor=\"middle\" x=\"1457\" y=\"-22.8\" font-family=\"Helvetica,sans-Serif\" font-size=\"14.00\">samples = 8</text>\r\n<text text-anchor=\"middle\" x=\"1457\" y=\"-7.8\" font-family=\"Helvetica,sans-Serif\" font-size=\"14.00\">value = 225.75</text>\r\n</g>\r\n<!-- 12&#45;&gt;14 -->\r\n<g id=\"edge14\" class=\"edge\"><title>12&#45;&gt;14</title>\r\n<path fill=\"none\" stroke=\"black\" d=\"M1328.25,-88.9485C1349.72,-78.7021 1373.25,-67.4737 1394.25,-57.4503\"/>\r\n<polygon fill=\"black\" stroke=\"black\" points=\"1395.87,-60.5527 1403.39,-53.0867 1392.86,-54.2354 1395.87,-60.5527\"/>\r\n</g>\r\n</g>\r\n</svg>\r\n",
      "text/plain": [
       "<graphviz.files.Source at 0x2b7013bb820>"
      ]
     },
     "execution_count": 146,
     "metadata": {},
     "output_type": "execute_result"
    }
   ],
   "source": [
    "#insérez votre code ici\n",
    "tree_reg.fit(X_train1,y_train1)\n",
    "export_graphviz(tree_reg, out_file=os.path.join(\"diabetes.dot\"), feature_names=dataDiabetes.feature_names,\n",
    "rounded=True, filled=True)\n",
    "Source.from_file(os.path.join(\"diabetes.dot\"))"
   ]
  },
  {
   "cell_type": "markdown",
   "metadata": {
    "id": "Sr9KEdQjp67V"
   },
   "source": [
    "<div class=\"alert alert-block alert-info\" style='color:MidnightBlue; background-color: AliceBlue ; border-radius: 30px; border-color: black; '>\n",
    "2.5\tFaites la prédiction sur la base de test pour produire y_predicted\n",
    "        </div>\n",
    "\n"
   ]
  },
  {
   "cell_type": "code",
   "execution_count": 147,
   "metadata": {
    "id": "ZVpDIMBvp67V"
   },
   "outputs": [],
   "source": [
    "#insérez votre code ici\n",
    "y_pred_diabetes = tree_reg.predict(X_test1)"
   ]
  },
  {
   "cell_type": "markdown",
   "metadata": {},
   "source": [
    "<div class=\"alert alert-block alert-info\" style='color:MidnightBlue; background-color: AliceBlue ; border-radius: 30px; border-color: black; '>\n",
    "2.6\tAffichez l’erreur quadratique moyenne entre y_predicted et y_test.\n",
    "     </div>"
   ]
  },
  {
   "cell_type": "code",
   "execution_count": 148,
   "metadata": {
    "id": "ZC4C6u5Tp67i"
   },
   "outputs": [
    {
     "name": "stdout",
     "output_type": "stream",
     "text": [
      "3616.769894653006\n"
     ]
    }
   ],
   "source": [
    "#insérez votre code ici\n",
    "from sklearn.metrics import mean_squared_error\n",
    "print (mean_squared_error(y_test1,y_pred_diabetes))"
   ]
  }
 ],
 "metadata": {
  "celltoolbar": "Aucun(e)",
  "colab": {
   "collapsed_sections": [],
   "name": "DS1_DL.ipynb",
   "provenance": []
  },
  "kernelspec": {
   "display_name": "Python 3.9.7 ('base')",
   "language": "python",
   "name": "python3"
  },
  "language_info": {
   "codemirror_mode": {
    "name": "ipython",
    "version": 3
   },
   "file_extension": ".py",
   "mimetype": "text/x-python",
   "name": "python",
   "nbconvert_exporter": "python",
   "pygments_lexer": "ipython3",
   "version": "3.9.7"
  },
  "latex_envs": {
   "LaTeX_envs_menu_present": true,
   "autoclose": false,
   "autocomplete": true,
   "bibliofile": "biblio.bib",
   "cite_by": "apalike",
   "current_citInitial": 1,
   "eqLabelWithNumbers": true,
   "eqNumInitial": 1,
   "hotkeys": {
    "equation": "Ctrl-E",
    "itemize": "Ctrl-I"
   },
   "labels_anchors": false,
   "latex_user_defs": false,
   "report_style_numbering": false,
   "user_envs_cfg": false
  },
  "varInspector": {
   "cols": {
    "lenName": 16,
    "lenType": 16,
    "lenVar": 40
   },
   "kernels_config": {
    "python": {
     "delete_cmd_postfix": "",
     "delete_cmd_prefix": "del ",
     "library": "var_list.py",
     "varRefreshCmd": "print(var_dic_list())"
    },
    "r": {
     "delete_cmd_postfix": ") ",
     "delete_cmd_prefix": "rm(",
     "library": "var_list.r",
     "varRefreshCmd": "cat(var_dic_list()) "
    }
   },
   "types_to_exclude": [
    "module",
    "function",
    "builtin_function_or_method",
    "instance",
    "_Feature"
   ],
   "window_display": false
  },
  "vscode": {
   "interpreter": {
    "hash": "ffd309f70c127bbe156ac096ba063b968332170e7693cbb0eca7d666f8002d44"
   }
  }
 },
 "nbformat": 4,
 "nbformat_minor": 1
}

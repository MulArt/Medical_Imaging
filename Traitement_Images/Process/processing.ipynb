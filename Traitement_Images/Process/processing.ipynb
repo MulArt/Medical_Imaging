{
 "cells": [
  {
   "cell_type": "code",
   "execution_count": 12,
   "metadata": {},
   "outputs": [],
   "source": [
    "import numpy as np\n",
    "from PIL import Image\n",
    "\n",
    "img = Image.open(\"MRI2.jpg\")\n",
    "save_filename = 'output_image.jpg'"
   ]
  },
  {
   "cell_type": "code",
   "execution_count": 13,
   "metadata": {},
   "outputs": [],
   "source": [
    "imgray = img.convert(mode='L')\n",
    "\n",
    "#convert to NumPy array\n",
    "img_array = np.asarray(imgray)\n",
    "\n",
    "#flatten image array and calculate histogram via binning\n",
    "histogram_array = np.bincount(img_array.flatten(), minlength=256)\n",
    "#normalize\n",
    "num_pixels = np.sum(histogram_array)\n",
    "histogram_array = histogram_array/num_pixels\n",
    "#cumulative histogram\n",
    "chistogram_array = np.cumsum(histogram_array)\n",
    "\n",
    "\n",
    "transform_map = np.floor(255 * chistogram_array).astype(np.uint8)\n",
    "\n",
    "# flatten image array into 1D list\n",
    "img_list = list(img_array.flatten())\n",
    "# transform pixel values to equalize\n",
    "eq_img_list = [transform_map[p] for p in img_list]\n",
    "# reshape and write back into img_array\n",
    "eq_img_array = np.reshape(np.asarray(eq_img_list), img_array.shape)\n",
    "\n",
    "eq_img = Image.fromarray(eq_img_array, mode='L')\n",
    "eq_img.save(save_filename)\n",
    "\n",
    "\n"
   ]
  }
 ],
 "metadata": {
  "kernelspec": {
   "display_name": "Python 3.7.3 64-bit",
   "language": "python",
   "name": "python3"
  },
  "language_info": {
   "codemirror_mode": {
    "name": "ipython",
    "version": 3
   },
   "file_extension": ".py",
   "mimetype": "text/x-python",
   "name": "python",
   "nbconvert_exporter": "python",
   "pygments_lexer": "ipython3",
   "version": "3.7.3"
  },
  "orig_nbformat": 4,
  "vscode": {
   "interpreter": {
    "hash": "610afcfab8d92197fd8fa1dd69c9a0fe3f98f600233dfd0ef802fd8443096641"
   }
  }
 },
 "nbformat": 4,
 "nbformat_minor": 2
}

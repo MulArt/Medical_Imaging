{
 "cells": [],
 "metadata": {
  "kernelspec": {
   "display_name": "Python 3.9.13 64-bit (microsoft store)",
   "language": "python",
   "name": "python3"
  },
  "language_info": {
   "codemirror_mode": {
    "name": "ipython",
    "version": 3
   },
   "file_extension": ".py",
   "mimetype": "text/x-python",
   "name": "python",
   "nbconvert_exporter": "python",
   "pygments_lexer": "ipython3",
   "version": "3.9.13"
  },
  "orig_nbformat": 4,
  "vscode": {
   "interpreter": {
    "hash": "13959c96b62b96e4f73055acb73b3dedd9d5f5fbe1a89deace0e7ae787c24b41"
   }
  }
 },
 "nbformat": 4,
 "nbformat_minor": 2
}

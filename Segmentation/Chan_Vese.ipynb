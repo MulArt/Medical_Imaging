{
 "cells": [
  {
   "cell_type": "code",
   "execution_count": 1,
   "metadata": {},
   "outputs": [
    {
     "ename": "NameError",
     "evalue": "name 'cv2' is not defined",
     "output_type": "error",
     "traceback": [
      "\u001b[1;31m---------------------------------------------------------------------------\u001b[0m",
      "\u001b[1;31mNameError\u001b[0m                                 Traceback (most recent call last)",
      "\u001b[1;32mc:\\Users\\arthu\\Documents\\5A\\Medical_Imaging_GitHub\\Medical_Imaging\\Segmentation\\Chan_Vese.ipynb Cellule 1\u001b[0m in \u001b[0;36m<cell line: 5>\u001b[1;34m()\u001b[0m\n\u001b[0;32m      <a href='vscode-notebook-cell:/c%3A/Users/arthu/Documents/5A/Medical_Imaging_GitHub/Medical_Imaging/Segmentation/Chan_Vese.ipynb#W0sZmlsZQ%3D%3D?line=1'>2</a>\u001b[0m \u001b[39mfrom\u001b[39;00m \u001b[39mskimage\u001b[39;00m \u001b[39mimport\u001b[39;00m data, img_as_float\n\u001b[0;32m      <a href='vscode-notebook-cell:/c%3A/Users/arthu/Documents/5A/Medical_Imaging_GitHub/Medical_Imaging/Segmentation/Chan_Vese.ipynb#W0sZmlsZQ%3D%3D?line=2'>3</a>\u001b[0m \u001b[39mfrom\u001b[39;00m \u001b[39mskimage\u001b[39;00m\u001b[39m.\u001b[39;00m\u001b[39msegmentation\u001b[39;00m \u001b[39mimport\u001b[39;00m chan_vese\n\u001b[1;32m----> <a href='vscode-notebook-cell:/c%3A/Users/arthu/Documents/5A/Medical_Imaging_GitHub/Medical_Imaging/Segmentation/Chan_Vese.ipynb#W0sZmlsZQ%3D%3D?line=4'>5</a>\u001b[0m image \u001b[39m=\u001b[39m cv2\u001b[39m.\u001b[39mimread(\u001b[39m\"\u001b[39m\u001b[39mTe-gl_0014.jpg\u001b[39m\u001b[39m\"\u001b[39m, \u001b[39m0\u001b[39m)\n\u001b[0;32m      <a href='vscode-notebook-cell:/c%3A/Users/arthu/Documents/5A/Medical_Imaging_GitHub/Medical_Imaging/Segmentation/Chan_Vese.ipynb#W0sZmlsZQ%3D%3D?line=5'>6</a>\u001b[0m cv \u001b[39m=\u001b[39m chan_vese(image, mu\u001b[39m=\u001b[39m\u001b[39m0.25\u001b[39m, lambda1\u001b[39m=\u001b[39m\u001b[39m1\u001b[39m, lambda2\u001b[39m=\u001b[39m\u001b[39m1\u001b[39m, tol\u001b[39m=\u001b[39m\u001b[39m1e-3\u001b[39m,\n\u001b[0;32m      <a href='vscode-notebook-cell:/c%3A/Users/arthu/Documents/5A/Medical_Imaging_GitHub/Medical_Imaging/Segmentation/Chan_Vese.ipynb#W0sZmlsZQ%3D%3D?line=6'>7</a>\u001b[0m                max_num_iter\u001b[39m=\u001b[39m\u001b[39m200\u001b[39m, dt\u001b[39m=\u001b[39m\u001b[39m0.5\u001b[39m, init_level_set\u001b[39m=\u001b[39m\u001b[39m\"\u001b[39m\u001b[39mcheckerboard\u001b[39m\u001b[39m\"\u001b[39m,\n\u001b[0;32m      <a href='vscode-notebook-cell:/c%3A/Users/arthu/Documents/5A/Medical_Imaging_GitHub/Medical_Imaging/Segmentation/Chan_Vese.ipynb#W0sZmlsZQ%3D%3D?line=7'>8</a>\u001b[0m                extended_output\u001b[39m=\u001b[39m\u001b[39mTrue\u001b[39;00m)\n\u001b[0;32m     <a href='vscode-notebook-cell:/c%3A/Users/arthu/Documents/5A/Medical_Imaging_GitHub/Medical_Imaging/Segmentation/Chan_Vese.ipynb#W0sZmlsZQ%3D%3D?line=9'>10</a>\u001b[0m fig, axes \u001b[39m=\u001b[39m plt\u001b[39m.\u001b[39msubplots(\u001b[39m2\u001b[39m, \u001b[39m2\u001b[39m, figsize\u001b[39m=\u001b[39m(\u001b[39m8\u001b[39m, \u001b[39m8\u001b[39m))\n",
      "\u001b[1;31mNameError\u001b[0m: name 'cv2' is not defined"
     ]
    }
   ],
   "source": [
    "import matplotlib.pyplot as plt\n",
    "from skimage import data, img_as_float\n",
    "from skimage.segmentation import chan_vese\n",
    "\n",
    "image = cv2.imread(\"Te-gl_0014.jpg\", 0)\n",
    "cv = chan_vese(image, mu=0.25, lambda1=1, lambda2=1, tol=1e-3,\n",
    "               max_num_iter=200, dt=0.5, init_level_set=\"checkerboard\",\n",
    "               extended_output=True)\n",
    "\n",
    "fig, axes = plt.subplots(2, 2, figsize=(8, 8))\n",
    "ax = axes.flatten()\n",
    "\n",
    "ax[0].imshow(image, cmap=\"gray\")\n",
    "ax[0].set_axis_off()\n",
    "ax[0].set_title(\"Original Image\", fontsize=12)\n",
    "\n",
    "ax[1].imshow(cv[0], cmap=\"gray\")\n",
    "ax[1].set_axis_off()\n",
    "title = f'Chan-Vese segmentation - {len(cv[2])} iterations'\n",
    "ax[1].set_title(title, fontsize=12)\n",
    "\n",
    "ax[2].imshow(cv[1], cmap=\"gray\")\n",
    "ax[2].set_axis_off()\n",
    "ax[2].set_title(\"Final Level Set\", fontsize=12)\n",
    "\n",
    "ax[3].plot(cv[2])\n",
    "ax[3].set_title(\"Evolution of energy over iterations\", fontsize=12)\n",
    "\n",
    "fig.tight_layout()\n",
    "plt.show()"
   ]
  }
 ],
 "metadata": {
  "kernelspec": {
   "display_name": "Python 3.9.7 ('base')",
   "language": "python",
   "name": "python3"
  },
  "language_info": {
   "codemirror_mode": {
    "name": "ipython",
    "version": 3
   },
   "file_extension": ".py",
   "mimetype": "text/x-python",
   "name": "python",
   "nbconvert_exporter": "python",
   "pygments_lexer": "ipython3",
   "version": "3.9.7"
  },
  "orig_nbformat": 4,
  "vscode": {
   "interpreter": {
    "hash": "e38bdacfe1d6e2b7e20a64d2eef782d7715e4314dc541be72f500d3c69b94a4f"
   }
  }
 },
 "nbformat": 4,
 "nbformat_minor": 2
}

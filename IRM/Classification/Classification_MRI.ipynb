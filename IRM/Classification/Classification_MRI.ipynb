{
 "cells": [
  {
   "cell_type": "code",
   "execution_count": 1,
   "metadata": {},
   "outputs": [],
   "source": [
    "import cv2\n",
    "import matplotlib.pyplot as plt\n",
    "import numpy as np\n",
    "import os \n",
    "import pandas as pd\n",
    "from PIL import Image\n",
    "import seaborn as sns \n",
    "import matplotlib.pyplot as plt\n",
    "import tensorflow_hub as hub\n",
    "import tensorflow as tf\n",
    "\n",
    "os.environ['TF_CPP_MIN_LOG_LEVEL'] = '3'\n",
    "\n",
    "from keras.models import Sequential\n",
    "from keras.layers import Dense, Flatten, Conv2D, MaxPooling2D,MaxPool2D\n",
    "from keras.layers import Input, Activation, LeakyReLU, Dropout\n",
    "from keras.losses import BinaryCrossentropy\n",
    "from tensorflow.keras.optimizers import Adam\n",
    "from tensorflow.keras.preprocessing.image import ImageDataGenerator\n"
   ]
  },
  {
   "cell_type": "code",
   "execution_count": 6,
   "metadata": {},
   "outputs": [
    {
     "name": "stdout",
     "output_type": "stream",
     "text": [
      "no contains 98 images\n",
      "yes contains 155 images\n"
     ]
    }
   ],
   "source": [
    "MAIN_DIR = 'brain-mri-images-for-brain-tumor-detection'\n",
    "SEED = 40\n",
    "os.listdir(MAIN_DIR)\n",
    "subdirs = os.listdir(MAIN_DIR)[:2]\n",
    "for subdir in subdirs:\n",
    "    print(f\"{subdir} contains {len(os.listdir(MAIN_DIR+'/'+subdir))} images\")"
   ]
  },
  {
   "cell_type": "code",
   "execution_count": null,
   "metadata": {},
   "outputs": [],
   "source": [
    "def load_images(folder):\n",
    "    \n",
    "    imgs = []\n",
    "    target = 0\n",
    "    labels = []\n",
    "    for i in os.listdir(folder):\n",
    "        subdir = os.path.join(folder, i)\n",
    "        for j in os.listdir(subdir):\n",
    "            img_dir = os.path.join(subdir,j)\n",
    "            try:\n",
    "                img = cv2.imread(img_dir)\n",
    "                img = cv2.cvtColor(img, cv2.COLOR_BGR2GRAY)\n",
    "                img = cv2.resize(img, (128,128))\n",
    "                imgs.append(img)\n",
    "                labels.append(target)\n",
    "            except:\n",
    "                continue\n",
    "        target += 1\n",
    "    \n",
    "    imgs = np.array(imgs)\n",
    "    labels = np.array(labels)\n",
    "    \n",
    "    return imgs, labels\n",
    "\n",
    "data, labels = load_images(MAIN_DIR)\n",
    "data.shape, labels.shape"
   ]
  },
  {
   "cell_type": "code",
   "execution_count": null,
   "metadata": {},
   "outputs": [],
   "source": [
    "def plot_images(start, end):\n",
    "    plt.figure(figsize=(22,8))\n",
    "    for i in range(10):\n",
    "        axs = plt.subplot(2,5, i+1)\n",
    "        idx = np.random.randint(start, end)\n",
    "        plt.imshow(data[idx], cmap='gray')\n",
    "        plt.axis('on')\n",
    "        axs.set_xticklabels([])\n",
    "        axs.set_yticklabels([])\n",
    "        plt.subplots_adjust(wspace=None, hspace=None)"
   ]
  },
  {
   "cell_type": "code",
   "execution_count": null,
   "metadata": {},
   "outputs": [],
   "source": [
    "plot_images(0, 97) "
   ]
  },
  {
   "cell_type": "code",
   "execution_count": null,
   "metadata": {},
   "outputs": [],
   "source": [
    "plot_images(98, 252)"
   ]
  },
  {
   "cell_type": "code",
   "execution_count": null,
   "metadata": {},
   "outputs": [],
   "source": [
    "norm_data = data / 255. \n",
    "norm_data = np.expand_dims(norm_data, axis=3)\n",
    "norm_data.shape, norm_data[0]"
   ]
  },
  {
   "cell_type": "code",
   "execution_count": null,
   "metadata": {},
   "outputs": [],
   "source": [
    "IMG_SHAPE = (128,128)\n",
    "BATCH_SIZE = 32\n",
    "datagen = ImageDataGenerator(rescale=1/255.,\n",
    "                             validation_split=0.5)\n",
    "train_data = datagen.flow_from_directory(MAIN_DIR,\n",
    "                                        target_size=IMG_SHAPE,\n",
    "                                        batch_size=BATCH_SIZE,\n",
    "                                        class_mode=\"binary\",\n",
    "                                        shuffle=True,\n",
    "                                        subset=\"training\")\n",
    "test_data = datagen.flow_from_directory(MAIN_DIR,\n",
    "                                       target_size=IMG_SHAPE,\n",
    "                                       batch_size=BATCH_SIZE,\n",
    "                                       class_mode=\"binary\",\n",
    "                                       shuffle=True,\n",
    "                                       subset=\"validation\")"
   ]
  },
  {
   "cell_type": "code",
   "execution_count": null,
   "metadata": {},
   "outputs": [],
   "source": [
    "tf.random.set_seed(SEED)\n",
    "\n",
    "model = Sequential([\n",
    "    Conv2D(filters=64,\n",
    "           kernel_size=3,\n",
    "           activation='relu'),\n",
    "    Conv2D(32,3,activation='relu'),\n",
    "    MaxPool2D(pool_size=2),\n",
    "    Conv2D(32,3,activation='relu'),\n",
    "    Conv2D(16,3,activation='relu'),\n",
    "    MaxPool2D(2, padding='same'),\n",
    "    Flatten(),\n",
    "    Dense(1, activation='sigmoid')\n",
    "])\n",
    "# Compile the model\n",
    "model.compile(loss=BinaryCrossentropy(),\n",
    "              optimizer=Adam(),\n",
    "              metrics=[\"accuracy\"])\n",
    "\n",
    "# Fit the model\n",
    "history = model.fit(train_data,\n",
    "                    epochs=10,\n",
    "                    steps_per_epoch=len(train_data),\n",
    "                    validation_data=test_data,\n",
    "                    validation_steps=len(test_data))"
   ]
  },
  {
   "cell_type": "code",
   "execution_count": null,
   "metadata": {},
   "outputs": [],
   "source": []
  }
 ],
 "metadata": {
  "kernelspec": {
   "display_name": "Python 3",
   "language": "python",
   "name": "python3"
  },
  "language_info": {
   "codemirror_mode": {
    "name": "ipython",
    "version": 3
   },
   "file_extension": ".py",
   "mimetype": "text/x-python",
   "name": "python",
   "nbconvert_exporter": "python",
   "pygments_lexer": "ipython3",
   "version": "3.7.3"
  },
  "orig_nbformat": 4,
  "vscode": {
   "interpreter": {
    "hash": "610afcfab8d92197fd8fa1dd69c9a0fe3f98f600233dfd0ef802fd8443096641"
   }
  }
 },
 "nbformat": 4,
 "nbformat_minor": 2
}
